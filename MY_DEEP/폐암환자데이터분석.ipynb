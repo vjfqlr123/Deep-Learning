{
 "cells": [
  {
   "cell_type": "code",
   "execution_count": 1,
   "id": "89079b18",
   "metadata": {},
   "outputs": [],
   "source": [
    "# 딥러닝을 구동하는 데 필요한 케라스 함수를 불러옵니다\n",
    "from tensorflow.keras.models import Sequential\n",
    "from tensorflow.keras.layers import Dense"
   ]
  },
  {
   "cell_type": "code",
   "execution_count": 2,
   "id": "5f4b4019",
   "metadata": {},
   "outputs": [],
   "source": [
    "# 필요한 라이브러리 불러옵니다\n",
    "import numpy as np\n",
    "import tensorflow as tf"
   ]
  },
  {
   "cell_type": "code",
   "execution_count": 9,
   "id": "b3757f84",
   "metadata": {},
   "outputs": [],
   "source": [
    "# 실행할 때마다 같은 결과를 출력하기 위해 설정하는 부분입니다.\n",
    "np.random.seed(3)\n",
    "tf.random.set_seed(3)"
   ]
  },
  {
   "cell_type": "code",
   "execution_count": 10,
   "id": "e5d3fda1",
   "metadata": {},
   "outputs": [
    {
     "data": {
      "text/plain": [
       "array([[293.  ,   1.  ,   3.8 , ...,   0.  ,  62.  ,   0.  ],\n",
       "       [  1.  ,   2.  ,   2.88, ...,   0.  ,  60.  ,   0.  ],\n",
       "       [  8.  ,   2.  ,   3.19, ...,   0.  ,  66.  ,   1.  ],\n",
       "       ...,\n",
       "       [406.  ,   6.  ,   5.36, ...,   0.  ,  62.  ,   0.  ],\n",
       "       [ 25.  ,   8.  ,   4.32, ...,   0.  ,  58.  ,   1.  ],\n",
       "       [447.  ,   8.  ,   5.2 , ...,   0.  ,  49.  ,   0.  ]])"
      ]
     },
     "execution_count": 10,
     "metadata": {},
     "output_type": "execute_result"
    }
   ],
   "source": [
    "# 준비된 수술 환자 데이터를 불러옴\n",
    "Data_set = np.loadtxt('../AI-Seminar-01-master/dataset/ThoraricSurgery.csv', delimiter=\",\")\n",
    "Data_set"
   ]
  },
  {
   "cell_type": "code",
   "execution_count": 11,
   "id": "e00c0bed",
   "metadata": {},
   "outputs": [],
   "source": [
    "# 환자의 기록과 수술 결과를 X와 Y로 구분하여 저장합니다.\n",
    "X = Data_set[:,0:17]\n",
    "Y = Data_set[:,17]"
   ]
  },
  {
   "cell_type": "markdown",
   "id": "9702c823",
   "metadata": {},
   "source": [
    "속성(정보)은 종양의 유형, 폐활량, 호흡곤란 여부, 기침, 흡연, 천식등의 17가지 환자 상태이고\n",
    "마지막 18번째는 수술 후 생존 결과로 1이면 생존, 0이면 사망"
   ]
  },
  {
   "cell_type": "code",
   "execution_count": 12,
   "id": "38c1d0d9",
   "metadata": {},
   "outputs": [
    {
     "data": {
      "text/plain": [
       "array([293. ,   1. ,   3.8,   2.8,   0. ,   0. ,   0. ,   0. ,   0. ,\n",
       "         0. ,  12. ,   0. ,   0. ,   0. ,   1. ,   0. ,  62. ])"
      ]
     },
     "execution_count": 12,
     "metadata": {},
     "output_type": "execute_result"
    }
   ],
   "source": [
    "X[0]"
   ]
  },
  {
   "cell_type": "code",
   "execution_count": 13,
   "id": "59f7fe4b",
   "metadata": {},
   "outputs": [
    {
     "data": {
      "text/plain": [
       "0.0"
      ]
     },
     "execution_count": 13,
     "metadata": {},
     "output_type": "execute_result"
    }
   ],
   "source": [
    "Y[0]"
   ]
  },
  {
   "cell_type": "code",
   "execution_count": 14,
   "id": "7c032398",
   "metadata": {},
   "outputs": [],
   "source": [
    "# 딥러닝 구조를 결정함(모델을 설정하고 실행하는 부분)\n",
    "model = Sequential()\n",
    "model.add(Dense(30, input_dim = 17, activation = 'relu'))\n",
    "model.add(Dense(1, activation = 'sigmoid'))"
   ]
  },
  {
   "cell_type": "code",
   "execution_count": 15,
   "id": "f6d428eb",
   "metadata": {},
   "outputs": [
    {
     "name": "stdout",
     "output_type": "stream",
     "text": [
      "Train on 470 samples\n",
      "Epoch 1/100\n",
      "470/470 [==============================] - 0s 796us/sample - loss: 0.1496 - accuracy: 0.8383\n",
      "Epoch 2/100\n",
      "470/470 [==============================] - 0s 128us/sample - loss: 0.1445 - accuracy: 0.8447\n",
      "Epoch 3/100\n",
      "470/470 [==============================] - 0s 137us/sample - loss: 0.1450 - accuracy: 0.8511\n",
      "Epoch 4/100\n",
      "470/470 [==============================] - 0s 121us/sample - loss: 0.1442 - accuracy: 0.8511\n",
      "Epoch 5/100\n",
      "470/470 [==============================] - 0s 114us/sample - loss: 0.1449 - accuracy: 0.8511\n",
      "Epoch 6/100\n",
      "470/470 [==============================] - 0s 113us/sample - loss: 0.1440 - accuracy: 0.8511\n",
      "Epoch 7/100\n",
      "470/470 [==============================] - 0s 140us/sample - loss: 0.1459 - accuracy: 0.8468\n",
      "Epoch 8/100\n",
      "470/470 [==============================] - 0s 123us/sample - loss: 0.1470 - accuracy: 0.8511\n",
      "Epoch 9/100\n",
      "470/470 [==============================] - 0s 116us/sample - loss: 0.1438 - accuracy: 0.8511\n",
      "Epoch 10/100\n",
      "470/470 [==============================] - 0s 115us/sample - loss: 0.1351 - accuracy: 0.8468\n",
      "Epoch 11/100\n",
      "470/470 [==============================] - 0s 141us/sample - loss: 0.1357 - accuracy: 0.8447\n",
      "Epoch 12/100\n",
      "470/470 [==============================] - 0s 123us/sample - loss: 0.1346 - accuracy: 0.8511\n",
      "Epoch 13/100\n",
      "470/470 [==============================] - 0s 153us/sample - loss: 0.1438 - accuracy: 0.8362\n",
      "Epoch 14/100\n",
      "470/470 [==============================] - 0s 134us/sample - loss: 0.1426 - accuracy: 0.8511\n",
      "Epoch 15/100\n",
      "470/470 [==============================] - 0s 113us/sample - loss: 0.1405 - accuracy: 0.8511\n",
      "Epoch 16/100\n",
      "470/470 [==============================] - 0s 134us/sample - loss: 0.1430 - accuracy: 0.8489\n",
      "Epoch 17/100\n",
      "470/470 [==============================] - 0s 132us/sample - loss: 0.1435 - accuracy: 0.8489\n",
      "Epoch 18/100\n",
      "470/470 [==============================] - 0s 113us/sample - loss: 0.1382 - accuracy: 0.8468\n",
      "Epoch 19/100\n",
      "470/470 [==============================] - 0s 147us/sample - loss: 0.1306 - accuracy: 0.8489\n",
      "Epoch 20/100\n",
      "470/470 [==============================] - 0s 130us/sample - loss: 0.1268 - accuracy: 0.8532\n",
      "Epoch 21/100\n",
      "470/470 [==============================] - 0s 153us/sample - loss: 0.1324 - accuracy: 0.8511\n",
      "Epoch 22/100\n",
      "470/470 [==============================] - 0s 149us/sample - loss: 0.1347 - accuracy: 0.8511\n",
      "Epoch 23/100\n",
      "470/470 [==============================] - 0s 143us/sample - loss: 0.1402 - accuracy: 0.8447\n",
      "Epoch 24/100\n",
      "470/470 [==============================] - 0s 119us/sample - loss: 0.1425 - accuracy: 0.8511\n",
      "Epoch 25/100\n",
      "470/470 [==============================] - 0s 126us/sample - loss: 0.1423 - accuracy: 0.8511\n",
      "Epoch 26/100\n",
      "470/470 [==============================] - 0s 111us/sample - loss: 0.1414 - accuracy: 0.8511\n",
      "Epoch 27/100\n",
      "470/470 [==============================] - 0s 115us/sample - loss: 0.1408 - accuracy: 0.8511\n",
      "Epoch 28/100\n",
      "470/470 [==============================] - 0s 128us/sample - loss: 0.1402 - accuracy: 0.8532\n",
      "Epoch 29/100\n",
      "470/470 [==============================] - 0s 121us/sample - loss: 0.1421 - accuracy: 0.8489\n",
      "Epoch 30/100\n",
      "470/470 [==============================] - 0s 166us/sample - loss: 0.1386 - accuracy: 0.8489\n",
      "Epoch 31/100\n",
      "470/470 [==============================] - 0s 145us/sample - loss: 0.1363 - accuracy: 0.8511\n",
      "Epoch 32/100\n",
      "470/470 [==============================] - 0s 138us/sample - loss: 0.1319 - accuracy: 0.8532\n",
      "Epoch 33/100\n",
      "470/470 [==============================] - 0s 126us/sample - loss: 0.1380 - accuracy: 0.8511\n",
      "Epoch 34/100\n",
      "470/470 [==============================] - 0s 112us/sample - loss: 0.1359 - accuracy: 0.8532\n",
      "Epoch 35/100\n",
      "470/470 [==============================] - 0s 115us/sample - loss: 0.1381 - accuracy: 0.8489\n",
      "Epoch 36/100\n",
      "470/470 [==============================] - 0s 127us/sample - loss: 0.1388 - accuracy: 0.8511\n",
      "Epoch 37/100\n",
      "470/470 [==============================] - 0s 113us/sample - loss: 0.1351 - accuracy: 0.8489\n",
      "Epoch 38/100\n",
      "470/470 [==============================] - 0s 128us/sample - loss: 0.1416 - accuracy: 0.8511\n",
      "Epoch 39/100\n",
      "470/470 [==============================] - 0s 114us/sample - loss: 0.1386 - accuracy: 0.8532\n",
      "Epoch 40/100\n",
      "470/470 [==============================] - 0s 126us/sample - loss: 0.1365 - accuracy: 0.8489\n",
      "Epoch 41/100\n",
      "470/470 [==============================] - 0s 120us/sample - loss: 0.1351 - accuracy: 0.8489\n",
      "Epoch 42/100\n",
      "470/470 [==============================] - 0s 143us/sample - loss: 0.1412 - accuracy: 0.8511\n",
      "Epoch 43/100\n",
      "470/470 [==============================] - 0s 147us/sample - loss: 0.1376 - accuracy: 0.8468\n",
      "Epoch 44/100\n",
      "470/470 [==============================] - 0s 140us/sample - loss: 0.1391 - accuracy: 0.8532\n",
      "Epoch 45/100\n",
      "470/470 [==============================] - 0s 145us/sample - loss: 0.1337 - accuracy: 0.8532\n",
      "Epoch 46/100\n",
      "470/470 [==============================] - 0s 126us/sample - loss: 0.1324 - accuracy: 0.8511\n",
      "Epoch 47/100\n",
      "470/470 [==============================] - 0s 132us/sample - loss: 0.1341 - accuracy: 0.8511\n",
      "Epoch 48/100\n",
      "470/470 [==============================] - 0s 111us/sample - loss: 0.1284 - accuracy: 0.8511\n",
      "Epoch 49/100\n",
      "470/470 [==============================] - 0s 126us/sample - loss: 0.1387 - accuracy: 0.8489\n",
      "Epoch 50/100\n",
      "470/470 [==============================] - 0s 119us/sample - loss: 0.1345 - accuracy: 0.8532\n",
      "Epoch 51/100\n",
      "470/470 [==============================] - 0s 128us/sample - loss: 0.1267 - accuracy: 0.8553\n",
      "Epoch 52/100\n",
      "470/470 [==============================] - 0s 117us/sample - loss: 0.1276 - accuracy: 0.8574\n",
      "Epoch 53/100\n",
      "470/470 [==============================] - 0s 134us/sample - loss: 0.1250 - accuracy: 0.8574\n",
      "Epoch 54/100\n",
      "470/470 [==============================] - 0s 119us/sample - loss: 0.1309 - accuracy: 0.8511\n",
      "Epoch 55/100\n",
      "470/470 [==============================] - 0s 128us/sample - loss: 0.1399 - accuracy: 0.8511\n",
      "Epoch 56/100\n",
      "470/470 [==============================] - 0s 128us/sample - loss: 0.1285 - accuracy: 0.8532\n",
      "Epoch 57/100\n",
      "470/470 [==============================] - 0s 111us/sample - loss: 0.1321 - accuracy: 0.8596\n",
      "Epoch 58/100\n",
      "470/470 [==============================] - 0s 111us/sample - loss: 0.1276 - accuracy: 0.8596\n",
      "Epoch 59/100\n",
      "470/470 [==============================] - 0s 126us/sample - loss: 0.1257 - accuracy: 0.8532\n",
      "Epoch 60/100\n",
      "470/470 [==============================] - 0s 110us/sample - loss: 0.1288 - accuracy: 0.8468\n",
      "Epoch 61/100\n",
      "470/470 [==============================] - 0s 109us/sample - loss: 0.1293 - accuracy: 0.8489\n",
      "Epoch 62/100\n",
      "470/470 [==============================] - 0s 111us/sample - loss: 0.1295 - accuracy: 0.8511\n",
      "Epoch 63/100\n",
      "470/470 [==============================] - 0s 123us/sample - loss: 0.1270 - accuracy: 0.8532\n",
      "Epoch 64/100\n",
      "470/470 [==============================] - 0s 116us/sample - loss: 0.1332 - accuracy: 0.8553\n",
      "Epoch 65/100\n",
      "470/470 [==============================] - 0s 111us/sample - loss: 0.1226 - accuracy: 0.8553\n",
      "Epoch 66/100\n",
      "470/470 [==============================] - 0s 123us/sample - loss: 0.1257 - accuracy: 0.8532\n",
      "Epoch 67/100\n",
      "470/470 [==============================] - 0s 112us/sample - loss: 0.1247 - accuracy: 0.8553\n",
      "Epoch 68/100\n",
      "470/470 [==============================] - 0s 109us/sample - loss: 0.1312 - accuracy: 0.8532\n",
      "Epoch 69/100\n",
      "470/470 [==============================] - 0s 111us/sample - loss: 0.1254 - accuracy: 0.8532\n",
      "Epoch 70/100\n",
      "470/470 [==============================] - 0s 126us/sample - loss: 0.1259 - accuracy: 0.8553\n",
      "Epoch 71/100\n",
      "470/470 [==============================] - 0s 112us/sample - loss: 0.1288 - accuracy: 0.8574\n",
      "Epoch 72/100\n",
      "470/470 [==============================] - 0s 111us/sample - loss: 0.1318 - accuracy: 0.8468\n",
      "Epoch 73/100\n",
      "470/470 [==============================] - 0s 115us/sample - loss: 0.1345 - accuracy: 0.8532\n",
      "Epoch 74/100\n",
      "470/470 [==============================] - 0s 130us/sample - loss: 0.1294 - accuracy: 0.8511\n",
      "Epoch 75/100\n",
      "470/470 [==============================] - 0s 132us/sample - loss: 0.1327 - accuracy: 0.8532\n",
      "Epoch 76/100\n",
      "470/470 [==============================] - 0s 121us/sample - loss: 0.1231 - accuracy: 0.8553\n",
      "Epoch 77/100\n",
      "470/470 [==============================] - 0s 136us/sample - loss: 0.1311 - accuracy: 0.8574\n",
      "Epoch 78/100\n"
     ]
    },
    {
     "name": "stdout",
     "output_type": "stream",
     "text": [
      "470/470 [==============================] - 0s 132us/sample - loss: 0.1246 - accuracy: 0.8553\n",
      "Epoch 79/100\n",
      "470/470 [==============================] - 0s 130us/sample - loss: 0.1220 - accuracy: 0.8489\n",
      "Epoch 80/100\n",
      "470/470 [==============================] - 0s 119us/sample - loss: 0.1382 - accuracy: 0.8511\n",
      "Epoch 81/100\n",
      "470/470 [==============================] - 0s 121us/sample - loss: 0.1334 - accuracy: 0.8553\n",
      "Epoch 82/100\n",
      "470/470 [==============================] - 0s 123us/sample - loss: 0.1215 - accuracy: 0.8489\n",
      "Epoch 83/100\n",
      "470/470 [==============================] - 0s 119us/sample - loss: 0.1251 - accuracy: 0.8596\n",
      "Epoch 84/100\n",
      "470/470 [==============================] - 0s 119us/sample - loss: 0.1232 - accuracy: 0.8489\n",
      "Epoch 85/100\n",
      "470/470 [==============================] - 0s 110us/sample - loss: 0.1254 - accuracy: 0.8596\n",
      "Epoch 86/100\n",
      "470/470 [==============================] - 0s 108us/sample - loss: 0.1281 - accuracy: 0.8617\n",
      "Epoch 87/100\n",
      "470/470 [==============================] - 0s 106us/sample - loss: 0.1273 - accuracy: 0.8511\n",
      "Epoch 88/100\n",
      "470/470 [==============================] - 0s 109us/sample - loss: 0.1282 - accuracy: 0.8574\n",
      "Epoch 89/100\n",
      "470/470 [==============================] - 0s 109us/sample - loss: 0.1320 - accuracy: 0.8532\n",
      "Epoch 90/100\n",
      "470/470 [==============================] - 0s 108us/sample - loss: 0.1225 - accuracy: 0.8574\n",
      "Epoch 91/100\n",
      "470/470 [==============================] - 0s 106us/sample - loss: 0.1247 - accuracy: 0.8468\n",
      "Epoch 92/100\n",
      "470/470 [==============================] - 0s 107us/sample - loss: 0.1206 - accuracy: 0.8532\n",
      "Epoch 93/100\n",
      "470/470 [==============================] - 0s 113us/sample - loss: 0.1297 - accuracy: 0.8511\n",
      "Epoch 94/100\n",
      "470/470 [==============================] - 0s 113us/sample - loss: 0.1358 - accuracy: 0.8553\n",
      "Epoch 95/100\n",
      "470/470 [==============================] - 0s 108us/sample - loss: 0.1371 - accuracy: 0.8532\n",
      "Epoch 96/100\n",
      "470/470 [==============================] - 0s 109us/sample - loss: 0.1309 - accuracy: 0.8596\n",
      "Epoch 97/100\n",
      "470/470 [==============================] - 0s 109us/sample - loss: 0.1207 - accuracy: 0.8532\n",
      "Epoch 98/100\n",
      "470/470 [==============================] - 0s 108us/sample - loss: 0.1199 - accuracy: 0.8596\n",
      "Epoch 99/100\n",
      "470/470 [==============================] - 0s 111us/sample - loss: 0.1254 - accuracy: 0.8574\n",
      "Epoch 100/100\n",
      "470/470 [==============================] - 0s 108us/sample - loss: 0.1254 - accuracy: 0.8489\n"
     ]
    },
    {
     "data": {
      "text/plain": [
       "<tensorflow.python.keras.callbacks.History at 0x1ebda3f1a08>"
      ]
     },
     "execution_count": 15,
     "metadata": {},
     "output_type": "execute_result"
    }
   ],
   "source": [
    "# 딥러닝을 실행\n",
    "model.compile(loss = 'mean_squared_error', optimizer = 'adam', metrics = ['accuracy'])\n",
    "model.fit(X, Y, epochs = 100, batch_size = 10)"
   ]
  },
  {
   "cell_type": "code",
   "execution_count": 16,
   "id": "a9bbb2d2",
   "metadata": {},
   "outputs": [
    {
     "name": "stdout",
     "output_type": "stream",
     "text": [
      "470/470 [==============================] - 0s 191us/sample - loss: 0.1213 - accuracy: 0.8574\n",
      "정확도 0.8574\n"
     ]
    }
   ],
   "source": [
    "#결과 확인\n",
    "print('정확도 %.4f' % model.evaluate(X, Y)[1])"
   ]
  },
  {
   "cell_type": "code",
   "execution_count": 17,
   "id": "bd5d3c6b",
   "metadata": {},
   "outputs": [
    {
     "data": {
      "text/plain": [
       "array([[293. ,   1. ,   3.8,   2.8,   0. ,   0. ,   0. ,   0. ,   0. ,\n",
       "          0. ,  12. ,   0. ,   0. ,   0. ,   1. ,   0. ,  62. ]])"
      ]
     },
     "execution_count": 17,
     "metadata": {},
     "output_type": "execute_result"
    }
   ],
   "source": [
    "new_patient_data = np.array([X[0]])\n",
    "new_patient_data"
   ]
  },
  {
   "cell_type": "code",
   "execution_count": 18,
   "id": "ed31ff6f",
   "metadata": {},
   "outputs": [
    {
     "data": {
      "text/plain": [
       "array([[0.01336104]], dtype=float32)"
      ]
     },
     "execution_count": 18,
     "metadata": {},
     "output_type": "execute_result"
    }
   ],
   "source": [
    "predict = model.predict(new_patient_data)\n",
    "predict"
   ]
  },
  {
   "cell_type": "code",
   "execution_count": null,
   "id": "51c1d56b",
   "metadata": {},
   "outputs": [],
   "source": []
  }
 ],
 "metadata": {
  "kernelspec": {
   "display_name": "Python 3",
   "language": "python",
   "name": "python3"
  },
  "language_info": {
   "codemirror_mode": {
    "name": "ipython",
    "version": 3
   },
   "file_extension": ".py",
   "mimetype": "text/x-python",
   "name": "python",
   "nbconvert_exporter": "python",
   "pygments_lexer": "ipython3",
   "version": "3.7.10"
  }
 },
 "nbformat": 4,
 "nbformat_minor": 5
}
