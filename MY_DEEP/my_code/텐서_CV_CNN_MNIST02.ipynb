{
 "cells": [
  {
   "cell_type": "code",
   "execution_count": null,
   "id": "5d65da7f",
   "metadata": {},
   "outputs": [],
   "source": [
    "from tensorflow.keras.datasets import mnist #케라스(tensorflow >2.0)에서 받을수 있는 데이터 셋\n",
    "#from tensorflow.keras.utils import np_utils\n",
    "from tensorflow.python.keras.utils.np_utils import to_categorical #np_utils 모듈 수정됨, \n",
    "from tensorflow.keras.models import Sequential, load_model\n",
    "from tensorflow.keras.layers import Dense, Dropout, Flatten, Conv2D, MaxPooling2D #Dropout, Flatten, Conv2D 등 import\n",
    "from tensorflow.keras.callbacks import ModelCheckpoint,EarlyStopping #모델저장, 과적합 방지\n",
    "\n",
    "import matplotlib.pyplot as plt\n",
    "import numpy as np\n",
    "import os\n",
    "import tensorflow as tf\n",
    "import cv2\n",
    "\n",
    "# seed 값 설정\n",
    "seed = 0\n",
    "np.random.seed(seed)\n",
    "tf.random.set_seed(3)"
   ]
  },
  {
   "cell_type": "code",
   "execution_count": null,
   "id": "bcf491b6",
   "metadata": {},
   "outputs": [],
   "source": [
    "# 데이터 불러오기\n",
    "(X_train, Y_train), (X_test, Y_test) = mnist.load_data() #데이터 불러오기\n",
    "#총7만개 자료, 6만개 Train데이터 1만개 Test데이터\n",
    "X_train = X_train.reshape(X_train.shape[0], 28, 28, 1).astype('float32') / 255\n",
    "#28, 28 , 1 --> 28*28픽셀 흑백영상이라 채널이 1 \n",
    "#0 ~ 255로 분포되어 있는 픽셀값을 0~1사이의 실수값으로 변경하기 위해 255로 나눔\n",
    "#파이썬에서 / 는 소수점까지 구해진다는 것을 잊으면 안됨 \n",
    "#정수로 나누고 싶다면 //\n",
    "X_test = X_test.reshape(X_test.shape[0], 28, 28, 1).astype('float32') / 255\n",
    "Y_train = to_categorical(Y_train) #손글씨 결과를 0~9까지 표현하는데 원-핫인코딩 결과로 리턴\n",
    "Y_test = to_categorical(Y_test) #테스트 결과를 원-핫인코딩함, 이유는 텐서플로우에서 효율적인 계산을 위해서"
   ]
  },
  {
   "cell_type": "code",
   "execution_count": null,
   "id": "fc58fd48",
   "metadata": {},
   "outputs": [],
   "source": [
    "model = load_model('./dataset/MNIST_학습된 모델/09-0.0266.hdf5') # 모델을 새로 불러옴\n",
    "\n",
    "print(\"\\n Test Accuracy: %.4f\" % (model.evaluate(X_test, Y_test)[1]))  # 불러온 모델로 테스트 실행"
   ]
  },
  {
   "cell_type": "code",
   "execution_count": null,
   "id": "455d05a4",
   "metadata": {},
   "outputs": [],
   "source": [
    "cap = cv2.VideoCapture(0)\n",
    "frmae_size = (int(cap.get(cv2.CAP_PROP_FRAME_WIDTH)),\n",
    "              int(cap.get(cv2.CAP_PROP_FRAME_HEIGHT)))"
   ]
  },
  {
   "cell_type": "code",
   "execution_count": null,
   "id": "09949bea",
   "metadata": {},
   "outputs": [],
   "source": [
    "while True:\n",
    "    retval, frame = cap.read()\n",
    "    if not retval:\n",
    "        break\n",
    "    \n",
    "    cv2.imshow('frame', frame)\n",
    "    \n",
    "    \n",
    "    key = cv2.waitKey(25)\n",
    "    if key == 27:       # 27 Esc\n",
    "        break\n",
    "    elif key == 32:     # 32 스페이스바\n",
    "        cv2.imwrite('./hand.png', frame)\n",
    "        break\n",
    "        \n",
    "\n",
    "if cap.isOpened():\n",
    "    cap.release()\n",
    "cv2.destroyAllWindows()"
   ]
  },
  {
   "cell_type": "code",
   "execution_count": null,
   "id": "001736f8",
   "metadata": {
    "scrolled": true
   },
   "outputs": [],
   "source": [
    "src = cv2.imread('./hand.png', cv2.IMREAD_GRAYSCALE)\n",
    "\n",
    "ret, blmage = cv2.threshold(src, 127, 255, cv2.THRESH_BINARY + cv2.THRESH_OTSU)\n",
    "\n",
    "kernel = cv2.getStructuringElement(shape=cv2.MORPH_RECT, ksize=(15,15))\n",
    "erode = cv2.erode(blmage, kernel, 7)\n",
    "\n",
    "dst = erode[100:450, 100:500].copy()\n",
    "\n",
    "resize_img = cv2.resize(dst, (28, 28), fx=1, fy=1,interpolation = cv2.INTER_AREA)\n",
    "last_img = 255 - resize_img.copy()\n",
    "\n",
    "plt.imshow(last_img, cmap= 'Greys')\n",
    "plt.show()"
   ]
  },
  {
   "cell_type": "code",
   "execution_count": null,
   "id": "e9adfbf2",
   "metadata": {},
   "outputs": [],
   "source": [
    "img3 = last_img.reshape(1, 28, 28, 1) / 255\n",
    "model.predict_classes(img3)"
   ]
  },
  {
   "cell_type": "code",
   "execution_count": null,
   "id": "182886b0",
   "metadata": {},
   "outputs": [],
   "source": []
  }
 ],
 "metadata": {
  "kernelspec": {
   "display_name": "Python 3",
   "language": "python",
   "name": "python3"
  },
  "language_info": {
   "codemirror_mode": {
    "name": "ipython",
    "version": 3
   },
   "file_extension": ".py",
   "mimetype": "text/x-python",
   "name": "python",
   "nbconvert_exporter": "python",
   "pygments_lexer": "ipython3",
   "version": "3.7.10"
  }
 },
 "nbformat": 4,
 "nbformat_minor": 5
}
