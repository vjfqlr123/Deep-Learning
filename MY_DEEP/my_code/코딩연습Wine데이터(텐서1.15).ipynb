{
 "cells": [
  {
   "cell_type": "code",
   "execution_count": 1,
   "id": "177814ff",
   "metadata": {},
   "outputs": [],
   "source": [
    "import pandas as pd\n",
    "import numpy\n",
    "import os\n",
    "import tensorflow as tf"
   ]
  },
  {
   "cell_type": "code",
   "execution_count": 2,
   "id": "65d61637",
   "metadata": {},
   "outputs": [],
   "source": [
    "from tensorflow.keras.models import Sequential\n",
    "from tensorflow.keras.layers import Dense\n",
    "from tensorflow.keras.callbacks import ModelCheckpoint, EarlyStopping\n",
    "from sklearn.preprocessing import LabelEncoder\n",
    "from sklearn.model_selection import StratifiedKFold\n",
    "from sklearn.model_selection import train_test_split"
   ]
  },
  {
   "cell_type": "code",
   "execution_count": 3,
   "id": "cd4b1ed4",
   "metadata": {},
   "outputs": [],
   "source": [
    "# seed\n",
    "seed = 0\n",
    "numpy.random.seed(3)\n",
    "tf.random.set_seed(3)"
   ]
  },
  {
   "cell_type": "code",
   "execution_count": 4,
   "id": "dbcc69ce",
   "metadata": {},
   "outputs": [],
   "source": [
    "df_pre = pd.read_csv('./dataset/wine.csv')\n",
    "df = df_pre.sample(frac = 0.8)"
   ]
  },
  {
   "cell_type": "code",
   "execution_count": 5,
   "id": "43307dfb",
   "metadata": {},
   "outputs": [],
   "source": [
    "dataset = df.values\n",
    "X = dataset[:, 0:12]\n",
    "Y = dataset[:, 12]"
   ]
  },
  {
   "cell_type": "code",
   "execution_count": 6,
   "id": "64a38081",
   "metadata": {},
   "outputs": [],
   "source": [
    "model = Sequential()\n",
    "model.add(Dense(30, input_dim = 12, activation = 'relu'))\n",
    "model.add(Dense(12, activation = 'relu'))\n",
    "model.add(Dense(8, activation = 'relu'))\n",
    "model.add(Dense(1, activation = 'sigmoid'))"
   ]
  },
  {
   "cell_type": "code",
   "execution_count": 7,
   "id": "dbb17985",
   "metadata": {},
   "outputs": [],
   "source": [
    "model.compile(loss = 'binary_crossentropy',\n",
    "             optimizer = 'adam',\n",
    "             metrics = ['accuracy'])"
   ]
  },
  {
   "cell_type": "code",
   "execution_count": 8,
   "id": "ef65f28b",
   "metadata": {},
   "outputs": [],
   "source": [
    "# 학습 셋과 테스트 셋의 구분\n",
    "X_train, X_test, Y_train, Y_test = train_test_split(X, Y, test_size=0.2, random_state=seed)"
   ]
  },
  {
   "cell_type": "code",
   "execution_count": 9,
   "id": "9bc61c42",
   "metadata": {},
   "outputs": [],
   "source": [
    "MODEL_DIR = './model/'\n",
    "if not os.path.exists(MODEL_DIR):\n",
    "    os.mkdir(MODEL_DIR)"
   ]
  },
  {
   "cell_type": "code",
   "execution_count": 10,
   "id": "f61bd52b",
   "metadata": {},
   "outputs": [],
   "source": [
    "modelpath = './model/{epoch:02d}-{val_loss:.4f}.hdf5'\n",
    "checkpointer = ModelCheckpoint(filepath = modelpath, monitor = 'val_loss', verbose = 1,\n",
    "                              save_best_only = True)"
   ]
  },
  {
   "cell_type": "code",
   "execution_count": 11,
   "id": "470e344e",
   "metadata": {},
   "outputs": [],
   "source": [
    "# 10개의 파일로 쪼갬\n",
    "n_fold = 4\n",
    "skf = StratifiedKFold(n_splits=n_fold, shuffle=True, random_state=seed)"
   ]
  },
  {
   "cell_type": "code",
   "execution_count": 12,
   "id": "43bef684",
   "metadata": {},
   "outputs": [],
   "source": [
    "accuracy = []"
   ]
  },
  {
   "cell_type": "code",
   "execution_count": 13,
   "id": "d418517b",
   "metadata": {},
   "outputs": [
    {
     "name": "stdout",
     "output_type": "stream",
     "text": [
      "1300/1300 [==============================] - 0s 104us/sample - loss: 0.1012 - accuracy: 0.9692\n",
      "1299/1299 [==============================] - 0s 94us/sample - loss: 0.1013 - accuracy: 0.9731\n",
      "1299/1299 [==============================] - 0s 95us/sample - loss: 0.0996 - accuracy: 0.9731\n",
      "1299/1299 [==============================] - 0s 96us/sample - loss: 0.0777 - accuracy: 0.9738\n"
     ]
    }
   ],
   "source": [
    "no = 0\n",
    "# 모델의 설정, 컴파일, 실행\n",
    "for train, test in skf.split(X, Y):\n",
    "    model = Sequential()\n",
    "    model.add(Dense(30, input_dim = 12, activation = 'relu'))\n",
    "    model.add(Dense(12, activation = 'relu'))\n",
    "    model.add(Dense(8, activation = 'relu'))\n",
    "    model.add(Dense(1, activation = 'sigmoid'))\n",
    "    model.compile(loss='binary_crossentropy',\n",
    "                  optimizer='adam',\n",
    "                  metrics=['accuracy'])\n",
    "    model.fit(X[train], Y[train], epochs=100, batch_size=500, verbose=0)\n",
    "    k_accuracy = \"%.4f\" % (model.evaluate(X[test], Y[test])[1])\n",
    "    accuracy.append(k_accuracy)\n",
    "    \n",
    "    no = no + 1\n",
    "    model.save(f'./model{no}.h5')"
   ]
  },
  {
   "cell_type": "code",
   "execution_count": 14,
   "id": "8f16e223",
   "metadata": {},
   "outputs": [
    {
     "name": "stdout",
     "output_type": "stream",
     "text": [
      "\n",
      " 4 fold accuracy: ['0.9692', '0.9731', '0.9731', '0.9738']\n"
     ]
    }
   ],
   "source": [
    "# 결과 출력\n",
    "print(\"\\n %.f fold accuracy:\" % n_fold, accuracy)"
   ]
  },
  {
   "cell_type": "code",
   "execution_count": null,
   "id": "19d70f90",
   "metadata": {},
   "outputs": [],
   "source": []
  }
 ],
 "metadata": {
  "kernelspec": {
   "display_name": "Python 3",
   "language": "python",
   "name": "python3"
  },
  "language_info": {
   "codemirror_mode": {
    "name": "ipython",
    "version": 3
   },
   "file_extension": ".py",
   "mimetype": "text/x-python",
   "name": "python",
   "nbconvert_exporter": "python",
   "pygments_lexer": "ipython3",
   "version": "3.7.10"
  }
 },
 "nbformat": 4,
 "nbformat_minor": 5
}
