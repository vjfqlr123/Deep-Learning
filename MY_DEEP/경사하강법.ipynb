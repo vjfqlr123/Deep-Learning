{
 "cells": [
  {
   "cell_type": "code",
   "execution_count": 1,
   "id": "7183f80e",
   "metadata": {},
   "outputs": [],
   "source": [
    "import numpy as np\n",
    "import pandas as pd\n",
    "import matplotlib.pyplot as plt"
   ]
  },
  {
   "cell_type": "code",
   "execution_count": 2,
   "id": "c1d184db",
   "metadata": {},
   "outputs": [],
   "source": [
    "#공부시간 X와 성적 Y의 리스트를 만듭니다.\n",
    "data = ([2,81], [4,93], [6,91], [8,97]) #공부시간, 실제성적\n",
    "x = [2, 4, 6, 8]\n",
    "y = [i[1] for i in data] #81, 93, 91, 97"
   ]
  },
  {
   "cell_type": "code",
   "execution_count": 3,
   "id": "b672e671",
   "metadata": {},
   "outputs": [
    {
     "data": {
      "image/png": "[encoded data removed]",
      "text/plain": [
       "<Figure size 648x216 with 1 Axes>"
      ]
     },
     "metadata": {
      "needs_background": "light"
     },
     "output_type": "display_data"
    }
   ],
   "source": [
    "#그래프로 그리기\n",
    "plt.figure(figsize=(9,3)) #넓이, 높이\n",
    "plt.scatter(x,y) #산점도\n",
    "plt.show()"
   ]
  },
  {
   "cell_type": "code",
   "execution_count": 4,
   "id": "50c9029e",
   "metadata": {},
   "outputs": [],
   "source": [
    "#리스트로 되어있는 x와 y의 넘파이 배열로 바꾸어 줍니다. \n",
    "x_data = np.array(x) #기본적으로 파이썬은 리스트 --> 객체 , np.array --> 배열, 같은타입, 메모리, 속도\n",
    "y_data = np.array(y)"
   ]
  },
  {
   "cell_type": "code",
   "execution_count": null,
   "id": "a6b6371e",
   "metadata": {},
   "outputs": [],
   "source": []
  },
  {
   "cell_type": "code",
   "execution_count": 5,
   "id": "a8056f2a",
   "metadata": {},
   "outputs": [],
   "source": [
    "#기울기 a와 절편 b의 값을 초기화 하자 ##### 변경시켜보자\n",
    "a = 10\n",
    "b = 200"
   ]
  },
  {
   "cell_type": "code",
   "execution_count": 6,
   "id": "003bb034",
   "metadata": {},
   "outputs": [],
   "source": [
    "#학습률 \n",
    "#한번 학습할 때 얼마큼 이동할 것인가? \n",
    "lr = 0.01 #### 1, 0.03, 0.3 변경시켜서 테스트해보자 #### 1, 0.03, 0.3 변경시켜서 테스트해보자"
   ]
  },
  {
   "cell_type": "code",
   "execution_count": 7,
   "id": "b31e6ad6",
   "metadata": {},
   "outputs": [],
   "source": [
    "epoch = 8000"
   ]
  },
  {
   "cell_type": "code",
   "execution_count": 8,
   "id": "abc3f8e3",
   "metadata": {},
   "outputs": [
    {
     "name": "stdout",
     "output_type": "stream",
     "text": [
      "epoch=0, 기울기=1.6400, 절편=198.4050\n",
      "epoch=100, 기울기=-14.2625, 절편=177.8381\n",
      "epoch=200, 기울기=-11.7817, 절편=163.0333\n",
      "epoch=300, 기울기=-9.6724, 절편=150.4461\n",
      "epoch=400, 기울기=-7.8791, 절편=139.7443\n",
      "epoch=500, 기울기=-6.3544, 절편=130.6455\n",
      "epoch=600, 기울기=-5.0580, 절편=122.9096\n",
      "epoch=700, 기울기=-3.9559, 절편=116.3325\n",
      "epoch=800, 기울기=-3.0188, 절편=110.7405\n",
      "epoch=900, 기울기=-2.2221, 절편=105.9862\n",
      "epoch=1000, 기울기=-1.5448, 절편=101.9439\n",
      "epoch=1100, 기울기=-0.9689, 절편=98.5072\n",
      "epoch=1200, 기울기=-0.4792, 절편=95.5853\n",
      "epoch=1300, 기울기=-0.0629, 절편=93.1010\n",
      "epoch=1400, 기울기=0.2910, 절편=90.9888\n",
      "epoch=1500, 기울기=0.5919, 절편=89.1930\n",
      "epoch=1600, 기울기=0.8478, 절편=87.6662\n",
      "epoch=1700, 기울기=1.0653, 절편=86.3681\n",
      "epoch=1800, 기울기=1.2502, 절편=85.2645\n",
      "epoch=1900, 기울기=1.4075, 절편=84.3261\n",
      "epoch=2000, 기울기=1.5412, 절편=83.5283\n",
      "epoch=2100, 기울기=1.6548, 절편=82.8500\n",
      "epoch=2200, 기울기=1.7515, 절편=82.2734\n",
      "epoch=2300, 기울기=1.8336, 절편=81.7830\n",
      "epoch=2400, 기울기=1.9035, 절편=81.3662\n",
      "epoch=2500, 기울기=1.9629, 절편=81.0118\n",
      "epoch=2600, 기울기=2.0134, 절편=80.7104\n",
      "epoch=2700, 기울기=2.0563, 절편=80.4542\n",
      "epoch=2800, 기울기=2.0928, 절편=80.2364\n",
      "epoch=2900, 기울기=2.1238, 절편=80.0512\n",
      "epoch=3000, 기울기=2.1502, 절편=79.8937\n",
      "epoch=3100, 기울기=2.1727, 절편=79.7599\n",
      "epoch=3200, 기울기=2.1917, 절편=79.6460\n",
      "epoch=3300, 기울기=2.2080, 절편=79.5493\n",
      "epoch=3400, 기울기=2.2217, 절편=79.4670\n",
      "epoch=3500, 기울기=2.2335, 절편=79.3970\n",
      "epoch=3600, 기울기=2.2434, 절편=79.3376\n",
      "epoch=3700, 기울기=2.2519, 절편=79.2870\n",
      "epoch=3800, 기울기=2.2591, 절편=79.2440\n",
      "epoch=3900, 기울기=2.2652, 절편=79.2075\n",
      "epoch=4000, 기울기=2.2704, 절편=79.1764\n",
      "epoch=4100, 기울기=2.2749, 절편=79.1500\n",
      "epoch=4200, 기울기=2.2786, 절편=79.1275\n",
      "epoch=4300, 기울기=2.2818, 절편=79.1084\n",
      "epoch=4400, 기울기=2.2846, 절편=79.0922\n",
      "epoch=4500, 기울기=2.2869, 절편=79.0784\n",
      "epoch=4600, 기울기=2.2888, 절편=79.0666\n",
      "epoch=4700, 기울기=2.2905, 절편=79.0566\n",
      "epoch=4800, 기울기=2.2919, 절편=79.0482\n",
      "epoch=4900, 기울기=2.2931, 절편=79.0409\n",
      "epoch=5000, 기울기=2.2942, 절편=79.0348\n",
      "epoch=5100, 기울기=2.2950, 절편=79.0296\n",
      "epoch=5200, 기울기=2.2958, 절편=79.0252\n",
      "epoch=5300, 기울기=2.2964, 절편=79.0214\n",
      "epoch=5400, 기울기=2.2970, 절편=79.0182\n",
      "epoch=5500, 기울기=2.2974, 절편=79.0155\n",
      "epoch=5600, 기울기=2.2978, 절편=79.0131\n",
      "epoch=5700, 기울기=2.2981, 절편=79.0112\n",
      "epoch=5800, 기울기=2.2984, 절편=79.0095\n",
      "epoch=5900, 기울기=2.2986, 절편=79.0081\n",
      "epoch=6000, 기울기=2.2988, 절편=79.0069\n",
      "epoch=6100, 기울기=2.2990, 절편=79.0058\n",
      "epoch=6200, 기울기=2.2992, 절편=79.0050\n",
      "epoch=6300, 기울기=2.2993, 절편=79.0042\n",
      "epoch=6400, 기울기=2.2994, 절편=79.0036\n",
      "epoch=6500, 기울기=2.2995, 절편=79.0031\n",
      "epoch=6600, 기울기=2.2996, 절편=79.0026\n",
      "epoch=6700, 기울기=2.2996, 절편=79.0022\n",
      "epoch=6800, 기울기=2.2997, 절편=79.0019\n",
      "epoch=6900, 기울기=2.2997, 절편=79.0016\n",
      "epoch=7000, 기울기=2.2998, 절편=79.0014\n",
      "epoch=7100, 기울기=2.2998, 절편=79.0012\n",
      "epoch=7200, 기울기=2.2998, 절편=79.0010\n",
      "epoch=7300, 기울기=2.2999, 절편=79.0008\n",
      "epoch=7400, 기울기=2.2999, 절편=79.0007\n",
      "epoch=7500, 기울기=2.2999, 절편=79.0006\n",
      "epoch=7600, 기울기=2.2999, 절편=79.0005\n",
      "epoch=7700, 기울기=2.2999, 절편=79.0004\n",
      "epoch=7800, 기울기=2.2999, 절편=79.0004\n",
      "epoch=7900, 기울기=2.2999, 절편=79.0003\n",
      "epoch=8000, 기울기=2.3000, 절편=79.0003\n",
      "epoch=8100, 기울기=2.3000, 절편=79.0002\n",
      "epoch=8200, 기울기=2.3000, 절편=79.0002\n",
      "epoch=8300, 기울기=2.3000, 절편=79.0002\n",
      "epoch=8400, 기울기=2.3000, 절편=79.0001\n",
      "epoch=8500, 기울기=2.3000, 절편=79.0001\n",
      "epoch=8600, 기울기=2.3000, 절편=79.0001\n",
      "epoch=8700, 기울기=2.3000, 절편=79.0001\n",
      "epoch=8800, 기울기=2.3000, 절편=79.0001\n",
      "epoch=8900, 기울기=2.3000, 절편=79.0001\n"
     ]
    }
   ],
   "source": [
    "#경사 하강법을 시작합시다.\n",
    "for i in range(epoch):\n",
    "    y_hat = a * x_data + b #y를 구하는 식을 세웁니다. , y_hat은 예측값  hyperthesis(가설)\n",
    "    error = y_data - y_hat #오차  error = 실제값 - 예측값\n",
    "    a_diff = -(1/len(x_data)) * sum(x_data * (error)) # 오차함수를 a로 미분한 값, a는 가중치, 기울기\n",
    "    b_diff = -(1/len(x_data)) * sum(error) #오차함수를 b로 미분한 값\n",
    "    a = a - (lr * a_diff) # 학습률을 곱해 기존의 a값을 업데이트합니다.\n",
    "    b = b - (lr * b_diff) # 학숩률을 곱해 기존의 b값을 업데이트합니다.\n",
    "    if i % 100 == 0 : #100번 반복할 때마다 현재의 a값, b값을 출력합니다.\n",
    "        print(\"epoch=%.f, 기울기=%.04f, 절편=%.04f\" % (i, a, b))"
   ]
  },
  {
   "cell_type": "code",
   "execution_count": null,
   "id": "fdc45aaf",
   "metadata": {},
   "outputs": [],
   "source": []
  }
 ],
 "metadata": {
  "kernelspec": {
   "display_name": "Python 3",
   "language": "python",
   "name": "python3"
  },
  "language_info": {
   "codemirror_mode": {
    "name": "ipython",
    "version": 3
   },
   "file_extension": ".py",
   "mimetype": "text/x-python",
   "name": "python",
   "nbconvert_exporter": "python",
   "pygments_lexer": "ipython3",
   "version": "3.7.10"
  }
 },
 "nbformat": 4,
 "nbformat_minor": 5
}
