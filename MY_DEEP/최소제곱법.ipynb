{
 "cells": [
  {
   "cell_type": "code",
   "execution_count": 1,
   "id": "8687508f",
   "metadata": {},
   "outputs": [],
   "source": [
    "import numpy as np"
   ]
  },
  {
   "cell_type": "code",
   "execution_count": 2,
   "id": "e7d2f065",
   "metadata": {},
   "outputs": [],
   "source": [
    "#x값과 y값\n",
    "x = [2, 4, 6, 8]\n",
    "y = [81, 93, 91, 97]"
   ]
  },
  {
   "cell_type": "code",
   "execution_count": 3,
   "id": "91b434bb",
   "metadata": {},
   "outputs": [
    {
     "name": "stdout",
     "output_type": "stream",
     "text": [
      "x 시간의 평균값 : 5.0\n",
      "y 성적의 평균값 : 90.5\n"
     ]
    }
   ],
   "source": [
    "#x와 y의 평균값\n",
    "mx = np.mean(x)\n",
    "my = np.mean(y)\n",
    "print(f'x 시간의 평균값 : {mx}')\n",
    "print(f'y 성적의 평균값 : {my}')"
   ]
  },
  {
   "cell_type": "code",
   "execution_count": 4,
   "id": "fab18edf",
   "metadata": {},
   "outputs": [
    {
     "data": {
      "text/plain": [
       "20.0"
      ]
     },
     "execution_count": 4,
     "metadata": {},
     "output_type": "execute_result"
    }
   ],
   "source": [
    "#최소제곱법을 구현하기 위한 분모 만들기\n",
    "divisor = sum([(i - mx)**2 for i in x])\n",
    "divisor"
   ]
  },
  {
   "cell_type": "code",
   "execution_count": 9,
   "id": "fb7aec80",
   "metadata": {},
   "outputs": [
    {
     "name": "stdout",
     "output_type": "stream",
     "text": [
      "분모 : 20.0\n",
      "분자 : 46.0\n"
     ]
    }
   ],
   "source": [
    "#최소제곱법을 구현하기 위한 분자 만들기\n",
    "def top(x, mx, y, my):\n",
    "    d = 0\n",
    "    for i in range(len(x)):\n",
    "        d += (x[i] - mx) * (y[i] - my)\n",
    "    return d\n",
    "\n",
    "dividend = top(x, mx, y, my)\n",
    "dividend\n",
    "print(f'분모 : {divisor}')\n",
    "print(f'분자 : {dividend}')"
   ]
  },
  {
   "cell_type": "code",
   "execution_count": 10,
   "id": "048aceaa",
   "metadata": {},
   "outputs": [
    {
     "name": "stdout",
     "output_type": "stream",
     "text": [
      "기울기 a = 2.3\n",
      "y 절편 b = 79.0\n"
     ]
    }
   ],
   "source": [
    "#기울기와 y절편 구하기\n",
    "a = dividend / divisor\n",
    "b = my - (mx*a)\n",
    "#출력으로 확인\n",
    "print(f'기울기 a = {a}')\n",
    "print(f'y 절편 b = {b}')"
   ]
  },
  {
   "cell_type": "code",
   "execution_count": 11,
   "id": "bea70da0",
   "metadata": {},
   "outputs": [
    {
     "name": "stdout",
     "output_type": "stream",
     "text": [
      "x 시간의 평균값 : 5.0\n",
      "y 성적의 평균값 : 90.5\n",
      "분모 : 20.0\n",
      "분자 : 46.0\n",
      "기울기 a = 2.3\n",
      "y 절편 b = 79.0\n"
     ]
    }
   ],
   "source": [
    "print(f'x 시간의 평균값 : {mx}')\n",
    "print(f'y 성적의 평균값 : {my}')\n",
    "print(f'분모 : {divisor}')\n",
    "print(f'분자 : {dividend}')\n",
    "print(f'기울기 a = {a}')\n",
    "print(f'y 절편 b = {b}')"
   ]
  },
  {
   "cell_type": "code",
   "execution_count": null,
   "id": "b3ba50e9",
   "metadata": {},
   "outputs": [],
   "source": []
  }
 ],
 "metadata": {
  "kernelspec": {
   "display_name": "Python 3",
   "language": "python",
   "name": "python3"
  },
  "language_info": {
   "codemirror_mode": {
    "name": "ipython",
    "version": 3
   },
   "file_extension": ".py",
   "mimetype": "text/x-python",
   "name": "python",
   "nbconvert_exporter": "python",
   "pygments_lexer": "ipython3",
   "version": "3.7.10"
  }
 },
 "nbformat": 4,
 "nbformat_minor": 5
}
