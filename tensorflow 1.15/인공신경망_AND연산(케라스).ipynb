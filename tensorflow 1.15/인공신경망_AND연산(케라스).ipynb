{
 "cells": [
  {
   "cell_type": "code",
   "execution_count": 3,
   "id": "bac58275",
   "metadata": {},
   "outputs": [],
   "source": [
    "import tensorflow as tf\n",
    "from keras.models import Sequential\n",
    "from keras.layers import Dense\n",
    "from keras.optimizers import Adam\n",
    "import numpy as np"
   ]
  },
  {
   "cell_type": "code",
   "execution_count": 7,
   "id": "836ae927",
   "metadata": {},
   "outputs": [],
   "source": [
    "# AND연산의  x1, x2입력을 저장하는 배열\n",
    "X = np.array([\n",
    "                [0., 0.],\n",
    "                [0., 1.],\n",
    "                [1., 0.],\n",
    "                [1., 1.],\n",
    "        ], dtype = \"float32\")\n",
    "\n",
    "# AND연산의 y출력을 저장하는 배열\n",
    "Y = np.array([0, 0, 0, 1], dtype = \"int32\")"
   ]
  },
  {
   "cell_type": "code",
   "execution_count": 8,
   "id": "be992dd3",
   "metadata": {},
   "outputs": [
    {
     "data": {
      "text/plain": [
       "array([[0., 0.],\n",
       "       [0., 1.],\n",
       "       [1., 0.],\n",
       "       [1., 1.]], dtype=float32)"
      ]
     },
     "execution_count": 8,
     "metadata": {},
     "output_type": "execute_result"
    }
   ],
   "source": [
    "X"
   ]
  },
  {
   "cell_type": "code",
   "execution_count": 9,
   "id": "d1dc762b",
   "metadata": {},
   "outputs": [
    {
     "data": {
      "text/plain": [
       "array([0, 0, 0, 1])"
      ]
     },
     "execution_count": 9,
     "metadata": {},
     "output_type": "execute_result"
    }
   ],
   "source": [
    "Y"
   ]
  },
  {
   "cell_type": "code",
   "execution_count": 10,
   "id": "e9bbc8ae",
   "metadata": {},
   "outputs": [
    {
     "name": "stdout",
     "output_type": "stream",
     "text": [
      "WARNING:tensorflow:From C:\\Users\\user\\anaconda3\\envs\\tfv1\\lib\\site-packages\\tensorflow_core\\python\\ops\\resource_variable_ops.py:1630: calling BaseResourceVariable.__init__ (from tensorflow.python.ops.resource_variable_ops) with constraint is deprecated and will be removed in a future version.\n",
      "Instructions for updating:\n",
      "If using Keras pass *_constraint arguments to layers.\n"
     ]
    }
   ],
   "source": [
    "model = Sequential()\n",
    "model.add(Dense(1, input_dim = 2, activation = \"sigmoid\"))"
   ]
  },
  {
   "cell_type": "code",
   "execution_count": 11,
   "id": "b51c8a67",
   "metadata": {},
   "outputs": [
    {
     "name": "stdout",
     "output_type": "stream",
     "text": [
      "Model: \"sequential_1\"\n",
      "_________________________________________________________________\n",
      "Layer (type)                 Output Shape              Param #   \n",
      "=================================================================\n",
      "dense_1 (Dense)              (None, 1)                 3         \n",
      "=================================================================\n",
      "Total params: 3\n",
      "Trainable params: 3\n",
      "Non-trainable params: 0\n",
      "_________________________________________________________________\n"
     ]
    }
   ],
   "source": [
    "model.summary()"
   ]
  },
  {
   "cell_type": "code",
   "execution_count": 12,
   "id": "b005fe7b",
   "metadata": {},
   "outputs": [
    {
     "name": "stdout",
     "output_type": "stream",
     "text": [
      "WARNING:tensorflow:From C:\\Users\\user\\anaconda3\\envs\\tfv1\\lib\\site-packages\\tensorflow_core\\python\\ops\\nn_impl.py:183: where (from tensorflow.python.ops.array_ops) is deprecated and will be removed in a future version.\n",
      "Instructions for updating:\n",
      "Use tf.where in 2.0, which has the same broadcast rule as np.where\n"
     ]
    }
   ],
   "source": [
    "model.compile(loss = 'binary_crossentropy', optimizer = Adam(lr = 0.1), metrics = ['acc'])"
   ]
  },
  {
   "cell_type": "code",
   "execution_count": 14,
   "id": "933dd750",
   "metadata": {},
   "outputs": [
    {
     "name": "stdout",
     "output_type": "stream",
     "text": [
      "WARNING:tensorflow:From C:\\Users\\user\\anaconda3\\envs\\tfv1\\lib\\site-packages\\keras\\backend\\tensorflow_backend.py:422: The name tf.global_variables is deprecated. Please use tf.compat.v1.global_variables instead.\n",
      "\n",
      "Epoch 1/100\n",
      "4/4 [==============================] - 0s 19ms/step - loss: 0.7317 - acc: 0.7500\n",
      "Epoch 2/100\n",
      "4/4 [==============================] - 0s 0us/step - loss: 0.6964 - acc: 0.7500\n",
      "Epoch 3/100\n",
      "4/4 [==============================] - 0s 0us/step - loss: 0.6688 - acc: 0.7500\n",
      "Epoch 4/100\n",
      "4/4 [==============================] - 0s 0us/step - loss: 0.6427 - acc: 0.5000\n",
      "Epoch 5/100\n",
      "4/4 [==============================] - 0s 0us/step - loss: 0.6188 - acc: 0.5000\n",
      "Epoch 6/100\n",
      "4/4 [==============================] - 0s 250us/step - loss: 0.5974 - acc: 0.5000\n",
      "Epoch 7/100\n",
      "4/4 [==============================] - 0s 500us/step - loss: 0.5782 - acc: 0.7500\n",
      "Epoch 8/100\n",
      "4/4 [==============================] - 0s 250us/step - loss: 0.5604 - acc: 0.7500\n",
      "Epoch 9/100\n",
      "4/4 [==============================] - 0s 250us/step - loss: 0.5434 - acc: 0.7500\n",
      "Epoch 10/100\n",
      "4/4 [==============================] - 0s 503us/step - loss: 0.5268 - acc: 0.7500\n",
      "Epoch 11/100\n",
      "4/4 [==============================] - 0s 250us/step - loss: 0.5103 - acc: 0.7500\n",
      "Epoch 12/100\n",
      "4/4 [==============================] - 0s 250us/step - loss: 0.4942 - acc: 0.7500\n",
      "Epoch 13/100\n",
      "4/4 [==============================] - 0s 500us/step - loss: 0.4783 - acc: 0.7500\n",
      "Epoch 14/100\n",
      "4/4 [==============================] - 0s 500us/step - loss: 0.4630 - acc: 0.7500\n",
      "Epoch 15/100\n",
      "4/4 [==============================] - 0s 498us/step - loss: 0.4483 - acc: 1.0000\n",
      "Epoch 16/100\n",
      "4/4 [==============================] - 0s 250us/step - loss: 0.4343 - acc: 1.0000\n",
      "Epoch 17/100\n",
      "4/4 [==============================] - 0s 751us/step - loss: 0.4210 - acc: 1.0000\n",
      "Epoch 18/100\n",
      "4/4 [==============================] - 0s 249us/step - loss: 0.4084 - acc: 1.0000\n",
      "Epoch 19/100\n",
      "4/4 [==============================] - 0s 497us/step - loss: 0.3965 - acc: 1.0000\n",
      "Epoch 20/100\n",
      "4/4 [==============================] - 0s 250us/step - loss: 0.3852 - acc: 1.0000\n",
      "Epoch 21/100\n",
      "4/4 [==============================] - 0s 501us/step - loss: 0.3744 - acc: 1.0000\n",
      "Epoch 22/100\n",
      "4/4 [==============================] - 0s 751us/step - loss: 0.3641 - acc: 1.0000\n",
      "Epoch 23/100\n",
      "4/4 [==============================] - 0s 500us/step - loss: 0.3541 - acc: 1.0000\n",
      "Epoch 24/100\n",
      "4/4 [==============================] - 0s 250us/step - loss: 0.3444 - acc: 1.0000\n",
      "Epoch 25/100\n",
      "4/4 [==============================] - 0s 251us/step - loss: 0.3351 - acc: 1.0000\n",
      "Epoch 26/100\n",
      "4/4 [==============================] - 0s 500us/step - loss: 0.3261 - acc: 1.0000\n",
      "Epoch 27/100\n",
      "4/4 [==============================] - 0s 500us/step - loss: 0.3174 - acc: 1.0000\n",
      "Epoch 28/100\n",
      "4/4 [==============================] - 0s 250us/step - loss: 0.3092 - acc: 1.0000\n",
      "Epoch 29/100\n",
      "4/4 [==============================] - 0s 250us/step - loss: 0.3013 - acc: 1.0000\n",
      "Epoch 30/100\n",
      "4/4 [==============================] - 0s 250us/step - loss: 0.2938 - acc: 1.0000\n",
      "Epoch 31/100\n",
      "4/4 [==============================] - 0s 250us/step - loss: 0.2867 - acc: 1.0000\n",
      "Epoch 32/100\n",
      "4/4 [==============================] - 0s 250us/step - loss: 0.2800 - acc: 1.0000\n",
      "Epoch 33/100\n",
      "4/4 [==============================] - 0s 497us/step - loss: 0.2735 - acc: 1.0000\n",
      "Epoch 34/100\n",
      "4/4 [==============================] - 0s 250us/step - loss: 0.2673 - acc: 1.0000\n",
      "Epoch 35/100\n",
      "4/4 [==============================] - 0s 253us/step - loss: 0.2614 - acc: 1.0000\n",
      "Epoch 36/100\n",
      "4/4 [==============================] - 0s 250us/step - loss: 0.2557 - acc: 1.0000\n",
      "Epoch 37/100\n",
      "4/4 [==============================] - 0s 251us/step - loss: 0.2502 - acc: 1.0000\n",
      "Epoch 38/100\n",
      "4/4 [==============================] - 0s 500us/step - loss: 0.2449 - acc: 1.0000\n",
      "Epoch 39/100\n",
      "4/4 [==============================] - 0s 253us/step - loss: 0.2398 - acc: 1.0000\n",
      "Epoch 40/100\n",
      "4/4 [==============================] - 0s 250us/step - loss: 0.2349 - acc: 1.0000\n",
      "Epoch 41/100\n",
      "4/4 [==============================] - 0s 501us/step - loss: 0.2302 - acc: 1.0000\n",
      "Epoch 42/100\n",
      "4/4 [==============================] - 0s 502us/step - loss: 0.2256 - acc: 1.0000\n",
      "Epoch 43/100\n",
      "4/4 [==============================] - 0s 498us/step - loss: 0.2213 - acc: 1.0000\n",
      "Epoch 44/100\n",
      "4/4 [==============================] - 0s 499us/step - loss: 0.2170 - acc: 1.0000\n",
      "Epoch 45/100\n",
      "4/4 [==============================] - 0s 250us/step - loss: 0.2130 - acc: 1.0000\n",
      "Epoch 46/100\n",
      "4/4 [==============================] - 0s 501us/step - loss: 0.2090 - acc: 1.0000\n",
      "Epoch 47/100\n",
      "4/4 [==============================] - 0s 500us/step - loss: 0.2052 - acc: 1.0000\n",
      "Epoch 48/100\n",
      "4/4 [==============================] - 0s 250us/step - loss: 0.2015 - acc: 1.0000\n",
      "Epoch 49/100\n",
      "4/4 [==============================] - 0s 250us/step - loss: 0.1980 - acc: 1.0000\n",
      "Epoch 50/100\n",
      "4/4 [==============================] - 0s 250us/step - loss: 0.1945 - acc: 1.0000\n",
      "Epoch 51/100\n",
      "4/4 [==============================] - 0s 500us/step - loss: 0.1911 - acc: 1.0000\n",
      "Epoch 52/100\n",
      "4/4 [==============================] - 0s 250us/step - loss: 0.1879 - acc: 1.0000\n",
      "Epoch 53/100\n",
      "4/4 [==============================] - 0s 250us/step - loss: 0.1847 - acc: 1.0000\n",
      "Epoch 54/100\n",
      "4/4 [==============================] - 0s 501us/step - loss: 0.1816 - acc: 1.0000\n",
      "Epoch 55/100\n",
      "4/4 [==============================] - 0s 500us/step - loss: 0.1786 - acc: 1.0000\n",
      "Epoch 56/100\n",
      "4/4 [==============================] - 0s 501us/step - loss: 0.1758 - acc: 1.0000\n",
      "Epoch 57/100\n",
      "4/4 [==============================] - 0s 501us/step - loss: 0.1730 - acc: 1.0000\n",
      "Epoch 58/100\n",
      "4/4 [==============================] - 0s 251us/step - loss: 0.1702 - acc: 1.0000\n",
      "Epoch 59/100\n",
      "4/4 [==============================] - 0s 501us/step - loss: 0.1676 - acc: 1.0000\n",
      "Epoch 60/100\n",
      "4/4 [==============================] - 0s 501us/step - loss: 0.1650 - acc: 1.0000\n",
      "Epoch 61/100\n",
      "4/4 [==============================] - 0s 250us/step - loss: 0.1625 - acc: 1.0000\n",
      "Epoch 62/100\n",
      "4/4 [==============================] - 0s 501us/step - loss: 0.1601 - acc: 1.0000\n",
      "Epoch 63/100\n",
      "4/4 [==============================] - 0s 500us/step - loss: 0.1577 - acc: 1.0000\n",
      "Epoch 64/100\n",
      "4/4 [==============================] - 0s 250us/step - loss: 0.1554 - acc: 1.0000\n",
      "Epoch 65/100\n",
      "4/4 [==============================] - 0s 500us/step - loss: 0.1531 - acc: 1.0000\n",
      "Epoch 66/100\n",
      "4/4 [==============================] - 0s 500us/step - loss: 0.1509 - acc: 1.0000\n",
      "Epoch 67/100\n",
      "4/4 [==============================] - 0s 250us/step - loss: 0.1487 - acc: 1.0000\n",
      "Epoch 68/100\n",
      "4/4 [==============================] - 0s 250us/step - loss: 0.1466 - acc: 1.0000\n",
      "Epoch 69/100\n",
      "4/4 [==============================] - 0s 500us/step - loss: 0.1446 - acc: 1.0000\n",
      "Epoch 70/100\n",
      "4/4 [==============================] - 0s 249us/step - loss: 0.1426 - acc: 1.0000\n",
      "Epoch 71/100\n",
      "4/4 [==============================] - 0s 500us/step - loss: 0.1406 - acc: 1.0000\n",
      "Epoch 72/100\n",
      "4/4 [==============================] - 0s 500us/step - loss: 0.1387 - acc: 1.0000\n",
      "Epoch 73/100\n",
      "4/4 [==============================] - 0s 251us/step - loss: 0.1369 - acc: 1.0000\n",
      "Epoch 74/100\n",
      "4/4 [==============================] - 0s 249us/step - loss: 0.1350 - acc: 1.0000\n",
      "Epoch 75/100\n",
      "4/4 [==============================] - 0s 501us/step - loss: 0.1332 - acc: 1.0000\n",
      "Epoch 76/100\n",
      "4/4 [==============================] - 0s 500us/step - loss: 0.1315 - acc: 1.0000\n",
      "Epoch 77/100\n",
      "4/4 [==============================] - 0s 504us/step - loss: 0.1298 - acc: 1.0000\n",
      "Epoch 78/100\n",
      "4/4 [==============================] - 0s 250us/step - loss: 0.1281 - acc: 1.0000\n",
      "Epoch 79/100\n",
      "4/4 [==============================] - 0s 501us/step - loss: 0.1265 - acc: 1.0000\n",
      "Epoch 80/100\n",
      "4/4 [==============================] - 0s 250us/step - loss: 0.1249 - acc: 1.0000\n",
      "Epoch 81/100\n",
      "4/4 [==============================] - 0s 502us/step - loss: 0.1233 - acc: 1.0000\n",
      "Epoch 82/100\n",
      "4/4 [==============================] - 0s 500us/step - loss: 0.1218 - acc: 1.0000\n",
      "Epoch 83/100\n",
      "4/4 [==============================] - 0s 500us/step - loss: 0.1203 - acc: 1.0000\n",
      "Epoch 84/100\n",
      "4/4 [==============================] - 0s 251us/step - loss: 0.1188 - acc: 1.0000\n",
      "Epoch 85/100\n",
      "4/4 [==============================] - 0s 500us/step - loss: 0.1174 - acc: 1.0000\n"
     ]
    },
    {
     "name": "stdout",
     "output_type": "stream",
     "text": [
      "Epoch 86/100\n",
      "4/4 [==============================] - 0s 501us/step - loss: 0.1159 - acc: 1.0000\n",
      "Epoch 87/100\n",
      "4/4 [==============================] - 0s 250us/step - loss: 0.1145 - acc: 1.0000\n",
      "Epoch 88/100\n",
      "4/4 [==============================] - 0s 250us/step - loss: 0.1132 - acc: 1.0000\n",
      "Epoch 89/100\n",
      "4/4 [==============================] - 0s 500us/step - loss: 0.1118 - acc: 1.0000\n",
      "Epoch 90/100\n",
      "4/4 [==============================] - 0s 254us/step - loss: 0.1105 - acc: 1.0000\n",
      "Epoch 91/100\n",
      "4/4 [==============================] - 0s 751us/step - loss: 0.1093 - acc: 1.0000\n",
      "Epoch 92/100\n",
      "4/4 [==============================] - 0s 496us/step - loss: 0.1080 - acc: 1.0000\n",
      "Epoch 93/100\n",
      "4/4 [==============================] - 0s 500us/step - loss: 0.1067 - acc: 1.0000\n",
      "Epoch 94/100\n",
      "4/4 [==============================] - 0s 499us/step - loss: 0.1055 - acc: 1.0000\n",
      "Epoch 95/100\n",
      "4/4 [==============================] - 0s 250us/step - loss: 0.1043 - acc: 1.0000\n",
      "Epoch 96/100\n",
      "4/4 [==============================] - 0s 250us/step - loss: 0.1032 - acc: 1.0000\n",
      "Epoch 97/100\n",
      "4/4 [==============================] - 0s 750us/step - loss: 0.1020 - acc: 1.0000\n",
      "Epoch 98/100\n",
      "4/4 [==============================] - 0s 499us/step - loss: 0.1009 - acc: 1.0000\n",
      "Epoch 99/100\n",
      "4/4 [==============================] - 0s 751us/step - loss: 0.0998 - acc: 1.0000\n",
      "Epoch 100/100\n",
      "4/4 [==============================] - 0s 501us/step - loss: 0.0987 - acc: 1.0000\n"
     ]
    },
    {
     "data": {
      "text/plain": [
       "<keras.callbacks.callbacks.History at 0x1ffedd04988>"
      ]
     },
     "execution_count": 14,
     "metadata": {},
     "output_type": "execute_result"
    }
   ],
   "source": [
    "model.fit(X, Y, epochs = 100)"
   ]
  },
  {
   "cell_type": "code",
   "execution_count": 15,
   "id": "1e30faf7",
   "metadata": {},
   "outputs": [
    {
     "data": {
      "text/plain": [
       "array([[0.00260878],\n",
       "       [0.11642373],\n",
       "       [0.11689422],\n",
       "       [0.869591  ]], dtype=float32)"
      ]
     },
     "execution_count": 15,
     "metadata": {},
     "output_type": "execute_result"
    }
   ],
   "source": [
    "pred = model.predict(X)\n",
    "pred"
   ]
  },
  {
   "cell_type": "code",
   "execution_count": 16,
   "id": "4a23cc27",
   "metadata": {},
   "outputs": [
    {
     "name": "stdout",
     "output_type": "stream",
     "text": [
      "=======================================\n",
      "[[0]\n",
      " [0]\n",
      " [0]\n",
      " [1]]\n"
     ]
    }
   ],
   "source": [
    "predict01 = np.where(pred>0.5, 1, 0)\n",
    "print(\"=======================================\")\n",
    "print(predict01)"
   ]
  },
  {
   "cell_type": "code",
   "execution_count": 17,
   "id": "b37564ca",
   "metadata": {},
   "outputs": [
    {
     "data": {
      "text/plain": [
       "array([0, 0, 0, 1])"
      ]
     },
     "execution_count": 17,
     "metadata": {},
     "output_type": "execute_result"
    }
   ],
   "source": [
    "predict02 = predict01.flatten()\n",
    "predict02"
   ]
  },
  {
   "cell_type": "code",
   "execution_count": 18,
   "id": "88b98381",
   "metadata": {},
   "outputs": [
    {
     "data": {
      "text/plain": [
       "array([ True,  True,  True,  True])"
      ]
     },
     "execution_count": 18,
     "metadata": {},
     "output_type": "execute_result"
    }
   ],
   "source": [
    "predict03 = (predict02 == Y)\n",
    "predict03"
   ]
  },
  {
   "cell_type": "code",
   "execution_count": 19,
   "id": "0cff7680",
   "metadata": {},
   "outputs": [
    {
     "data": {
      "text/plain": [
       "4"
      ]
     },
     "execution_count": 19,
     "metadata": {},
     "output_type": "execute_result"
    }
   ],
   "source": [
    "np.sum(predict03)"
   ]
  },
  {
   "cell_type": "code",
   "execution_count": 20,
   "id": "54b3dd32",
   "metadata": {},
   "outputs": [],
   "source": [
    "acc = np.sum(predict03)/4"
   ]
  },
  {
   "cell_type": "code",
   "execution_count": 21,
   "id": "8100c963",
   "metadata": {},
   "outputs": [
    {
     "data": {
      "text/plain": [
       "1.0"
      ]
     },
     "execution_count": 21,
     "metadata": {},
     "output_type": "execute_result"
    }
   ],
   "source": [
    "acc"
   ]
  },
  {
   "cell_type": "code",
   "execution_count": null,
   "id": "f1a4633a",
   "metadata": {},
   "outputs": [],
   "source": []
  }
 ],
 "metadata": {
  "kernelspec": {
   "display_name": "Python 3",
   "language": "python",
   "name": "python3"
  },
  "language_info": {
   "codemirror_mode": {
    "name": "ipython",
    "version": 3
   },
   "file_extension": ".py",
   "mimetype": "text/x-python",
   "name": "python",
   "nbconvert_exporter": "python",
   "pygments_lexer": "ipython3",
   "version": "3.7.10"
  }
 },
 "nbformat": 4,
 "nbformat_minor": 5
}
