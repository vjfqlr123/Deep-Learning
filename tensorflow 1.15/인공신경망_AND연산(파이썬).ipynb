{
 "cells": [
  {
   "cell_type": "code",
   "execution_count": 1,
   "id": "5007ca20",
   "metadata": {},
   "outputs": [],
   "source": [
    "import numpy as np\n",
    "import tensorflow as tf\n",
    "tf.enable_eager_execution()"
   ]
  },
  {
   "cell_type": "code",
   "execution_count": 2,
   "id": "d67b5168",
   "metadata": {},
   "outputs": [],
   "source": [
    "# AND연산의  x1, x2입력을 저장하는 배열\n",
    "X = np.array([\n",
    "                [0., 0.],\n",
    "                [0., 1.],\n",
    "                [1., 0.],\n",
    "                [1., 1.],\n",
    "        ], dtype = \"float32\")\n",
    "\n",
    "# AND연산의 y출력을 저장하는 배열\n",
    "Y = np.array([\n",
    "                [0.],\n",
    "                [0.],\n",
    "                [0.],\n",
    "                [1.]\n",
    "        ], dtype = \"float32\")"
   ]
  },
  {
   "cell_type": "code",
   "execution_count": 3,
   "id": "f1225046",
   "metadata": {},
   "outputs": [
    {
     "data": {
      "text/plain": [
       "array([[0., 0.],\n",
       "       [0., 1.],\n",
       "       [1., 0.],\n",
       "       [1., 1.]], dtype=float32)"
      ]
     },
     "execution_count": 3,
     "metadata": {},
     "output_type": "execute_result"
    }
   ],
   "source": [
    "X"
   ]
  },
  {
   "cell_type": "code",
   "execution_count": 4,
   "id": "0b48110e",
   "metadata": {},
   "outputs": [
    {
     "data": {
      "text/plain": [
       "array([[0.],\n",
       "       [0.],\n",
       "       [0.],\n",
       "       [1.]], dtype=float32)"
      ]
     },
     "execution_count": 4,
     "metadata": {},
     "output_type": "execute_result"
    }
   ],
   "source": [
    "Y"
   ]
  },
  {
   "cell_type": "code",
   "execution_count": 5,
   "id": "4a711e39",
   "metadata": {},
   "outputs": [],
   "source": [
    "# X에 곱해지는 값 선언\n",
    "w = np.array([[1], [2]], dtype = \"float32\")\n",
    "# X에 더해지는 값 선언\n",
    "b = np.array([[3]], dtype = \"float32\")"
   ]
  },
  {
   "cell_type": "code",
   "execution_count": 6,
   "id": "32c60cc3",
   "metadata": {},
   "outputs": [
    {
     "data": {
      "text/plain": [
       "array([[1.],\n",
       "       [2.]], dtype=float32)"
      ]
     },
     "execution_count": 6,
     "metadata": {},
     "output_type": "execute_result"
    }
   ],
   "source": [
    "w"
   ]
  },
  {
   "cell_type": "code",
   "execution_count": 7,
   "id": "ab73b8e9",
   "metadata": {},
   "outputs": [
    {
     "data": {
      "text/plain": [
       "array([[3.]], dtype=float32)"
      ]
     },
     "execution_count": 7,
     "metadata": {},
     "output_type": "execute_result"
    }
   ],
   "source": [
    "b"
   ]
  },
  {
   "cell_type": "code",
   "execution_count": 8,
   "id": "a8298a15",
   "metadata": {},
   "outputs": [
    {
     "data": {
      "text/plain": [
       "array([[0.],\n",
       "       [2.],\n",
       "       [1.],\n",
       "       [3.]], dtype=float32)"
      ]
     },
     "execution_count": 8,
     "metadata": {},
     "output_type": "execute_result"
    }
   ],
   "source": [
    "# X에 w를 곱합\n",
    "np.dot(X, w)"
   ]
  },
  {
   "cell_type": "code",
   "execution_count": 9,
   "id": "396ba781",
   "metadata": {},
   "outputs": [
    {
     "data": {
      "text/plain": [
       "array([[3.],\n",
       "       [5.],\n",
       "       [4.],\n",
       "       [6.]], dtype=float32)"
      ]
     },
     "execution_count": 9,
     "metadata": {},
     "output_type": "execute_result"
    }
   ],
   "source": [
    "# X에 w를 곱하고 b를 더함\n",
    "np.dot(X, w) + b"
   ]
  },
  {
   "cell_type": "code",
   "execution_count": 10,
   "id": "1bbca497",
   "metadata": {},
   "outputs": [],
   "source": [
    "# h를 0 ~ 1 사이 범위로 변경하는 활성함수 선언\n",
    "def sigmoid(h):\n",
    "    return 1 / (1 + np.exp(-h))"
   ]
  },
  {
   "cell_type": "code",
   "execution_count": 11,
   "id": "01b3f277",
   "metadata": {},
   "outputs": [
    {
     "data": {
      "text/plain": [
       "array([[3.],\n",
       "       [5.],\n",
       "       [4.],\n",
       "       [6.]], dtype=float32)"
      ]
     },
     "execution_count": 11,
     "metadata": {},
     "output_type": "execute_result"
    }
   ],
   "source": [
    "# X * w + b 를 실행해서 예측값을 hypothesis에 대입\n",
    "hypothesis = np.dot(X, w) + b\n",
    "hypothesis"
   ]
  },
  {
   "cell_type": "code",
   "execution_count": 12,
   "id": "536d2544",
   "metadata": {},
   "outputs": [
    {
     "data": {
      "text/plain": [
       "array([[0.95257413],\n",
       "       [0.9933072 ],\n",
       "       [0.98201376],\n",
       "       [0.9975274 ]], dtype=float32)"
      ]
     },
     "execution_count": 12,
     "metadata": {},
     "output_type": "execute_result"
    }
   ],
   "source": [
    "# X * w + b 를 실행해서 예측값을 hypothesis에 대입하고 활성함수를 이용\n",
    "# 값의 범위를 0 ~ 1 사이로 변경\n",
    "hypothesis = sigmoid(np.dot(X, w) + b)\n",
    "hypothesis"
   ]
  },
  {
   "cell_type": "code",
   "execution_count": 13,
   "id": "c9a60cce",
   "metadata": {},
   "outputs": [
    {
     "data": {
      "text/plain": [
       "array([[ 0.95257413],\n",
       "       [ 0.9933072 ],\n",
       "       [ 0.98201376],\n",
       "       [-0.00247258]], dtype=float32)"
      ]
     },
     "execution_count": 13,
     "metadata": {},
     "output_type": "execute_result"
    }
   ],
   "source": [
    "# 예측값 - 실제값\n",
    "(hypothesis - Y)"
   ]
  },
  {
   "cell_type": "code",
   "execution_count": 14,
   "id": "905c91c0",
   "metadata": {},
   "outputs": [
    {
     "data": {
      "text/plain": [
       "array([[0., 0., 1., 1.],\n",
       "       [0., 1., 0., 1.]], dtype=float32)"
      ]
     },
     "execution_count": 14,
     "metadata": {},
     "output_type": "execute_result"
    }
   ],
   "source": [
    "# X의 줄칸을 반대로 전환\n",
    "X.T"
   ]
  },
  {
   "cell_type": "code",
   "execution_count": 15,
   "id": "4c1af691",
   "metadata": {},
   "outputs": [
    {
     "data": {
      "text/plain": [
       "array([0., 0., 1., 1.], dtype=float32)"
      ]
     },
     "execution_count": 15,
     "metadata": {},
     "output_type": "execute_result"
    }
   ],
   "source": [
    "# X의 줄칸을 반대로 전환하고 0번째 줄을 리턴\n",
    "# X의 줄칸을 반대로 전환했기 때문에 실제로는 0번째 칸이 리턴됨\n",
    "X.T[0]"
   ]
  },
  {
   "cell_type": "code",
   "execution_count": 17,
   "id": "bf080b49",
   "metadata": {},
   "outputs": [
    {
     "data": {
      "text/plain": [
       "array([[0., 0., 1., 1.]], dtype=float32)"
      ]
     },
     "execution_count": 17,
     "metadata": {},
     "output_type": "execute_result"
    }
   ],
   "source": [
    "# 이차원 배열인 (hypothesis - Y) 와 변환하기위해서\n",
    "# X.T[0]를 2차원 배열로 변환\n",
    "X_col_2d1 = X.T[0].reshape(1, -1)\n",
    "X_col_2d1"
   ]
  },
  {
   "cell_type": "code",
   "execution_count": 18,
   "id": "012093bd",
   "metadata": {},
   "outputs": [
    {
     "name": "stdout",
     "output_type": "stream",
     "text": [
      "0.24488529562950134\n"
     ]
    }
   ],
   "source": [
    "# w1의 수정값\n",
    "w1_gred = 1/4 * np.sum(np.dot(X_col_2d1, (hypothesis - Y)))\n",
    "print(w1_gred)"
   ]
  },
  {
   "cell_type": "code",
   "execution_count": 19,
   "id": "e374e4f8",
   "metadata": {},
   "outputs": [
    {
     "data": {
      "text/plain": [
       "array([0., 1., 0., 1.], dtype=float32)"
      ]
     },
     "execution_count": 19,
     "metadata": {},
     "output_type": "execute_result"
    }
   ],
   "source": [
    "X.T[1]"
   ]
  },
  {
   "cell_type": "code",
   "execution_count": 20,
   "id": "863f3e31",
   "metadata": {},
   "outputs": [
    {
     "data": {
      "text/plain": [
       "array([[0., 1., 0., 1.]], dtype=float32)"
      ]
     },
     "execution_count": 20,
     "metadata": {},
     "output_type": "execute_result"
    }
   ],
   "source": [
    "X_col_2d2 = X.T[1].reshape(1, -1)\n",
    "X_col_2d2"
   ]
  },
  {
   "cell_type": "code",
   "execution_count": 21,
   "id": "db2fd156",
   "metadata": {},
   "outputs": [
    {
     "name": "stdout",
     "output_type": "stream",
     "text": [
      "1.4627113342285156\n"
     ]
    }
   ],
   "source": [
    "# w2의 수정값\n",
    "w2_gred = 1/4 * np.sum(np.dot((hypothesis - Y), X_col_2d1))\n",
    "print(w2_gred)"
   ]
  },
  {
   "cell_type": "code",
   "execution_count": 22,
   "id": "a5e84e89",
   "metadata": {},
   "outputs": [
    {
     "name": "stdout",
     "output_type": "stream",
     "text": [
      "0.731355607509613\n"
     ]
    }
   ],
   "source": [
    "# b의 수정값\n",
    "b_gred = 1/4 * np.sum(hypothesis - Y)\n",
    "print(b_gred)"
   ]
  },
  {
   "cell_type": "code",
   "execution_count": 23,
   "id": "ad0c79ca",
   "metadata": {},
   "outputs": [],
   "source": [
    "learning_rate = 0.1"
   ]
  },
  {
   "cell_type": "code",
   "execution_count": 24,
   "id": "49f1f16d",
   "metadata": {},
   "outputs": [],
   "source": [
    "for i in range(100):\n",
    "    for j in range(2):\n",
    "        hypothesis = sigmoid(np.dot(X, w) + b)\n",
    "        cost = -1/4 * (Y * np.log(hypothesis) + (1 - Y) * np.log(1 - hypothesis))\n",
    "        X_col_2d = X.T[j].reshape(1, -1)\n",
    "        w_gred = 1/4 * np.sum(np.dot(X_col_2d, (hypothesis - Y)))\n",
    "        w[j] = w[j] - learning_rate * w_gred\n",
    "        b_gred = 1/4 * np.sum(hypothesis - Y)\n",
    "        b = b - learning_rate * b_gred"
   ]
  },
  {
   "cell_type": "code",
   "execution_count": 25,
   "id": "f35a9b36",
   "metadata": {},
   "outputs": [
    {
     "data": {
      "text/plain": [
       "array([[0.7401471],\n",
       "       [1.3791031]], dtype=float32)"
      ]
     },
     "execution_count": 25,
     "metadata": {},
     "output_type": "execute_result"
    }
   ],
   "source": [
    "w"
   ]
  },
  {
   "cell_type": "code",
   "execution_count": 26,
   "id": "d706f003",
   "metadata": {},
   "outputs": [
    {
     "data": {
      "text/plain": [
       "array([[-2.0687358]], dtype=float32)"
      ]
     },
     "execution_count": 26,
     "metadata": {},
     "output_type": "execute_result"
    }
   ],
   "source": [
    "b"
   ]
  },
  {
   "cell_type": "code",
   "execution_count": 28,
   "id": "eaf29436",
   "metadata": {},
   "outputs": [
    {
     "data": {
      "text/plain": [
       "array([[-2.0687358 ],\n",
       "       [-0.6896328 ],\n",
       "       [-1.3285887 ],\n",
       "       [ 0.05051446]], dtype=float32)"
      ]
     },
     "execution_count": 28,
     "metadata": {},
     "output_type": "execute_result"
    }
   ],
   "source": [
    "np.dot(X , w) + b"
   ]
  },
  {
   "cell_type": "code",
   "execution_count": 29,
   "id": "489e0911",
   "metadata": {},
   "outputs": [
    {
     "data": {
      "text/plain": [
       "array([[0.11217288],\n",
       "       [0.33411476],\n",
       "       [0.2093929 ],\n",
       "       [0.51262593]], dtype=float32)"
      ]
     },
     "execution_count": 29,
     "metadata": {},
     "output_type": "execute_result"
    }
   ],
   "source": [
    "predict = sigmoid(np.dot(X, w) + b)\n",
    "predict"
   ]
  },
  {
   "cell_type": "code",
   "execution_count": 30,
   "id": "6a8222d6",
   "metadata": {},
   "outputs": [
    {
     "name": "stdout",
     "output_type": "stream",
     "text": [
      "tf.Tensor(\n",
      "[[0.]\n",
      " [0.]\n",
      " [0.]\n",
      " [1.]], shape=(4, 1), dtype=float32)\n"
     ]
    }
   ],
   "source": [
    "predict01 = tf.cast(predict > 0.5, dtype = tf.float32)\n",
    "print(predict01)"
   ]
  },
  {
   "cell_type": "code",
   "execution_count": 31,
   "id": "025b6e83",
   "metadata": {},
   "outputs": [
    {
     "data": {
      "text/plain": [
       "<tf.Tensor: id=3, shape=(4, 1), dtype=bool, numpy=\n",
       "array([[ True],\n",
       "       [ True],\n",
       "       [ True],\n",
       "       [ True]])>"
      ]
     },
     "execution_count": 31,
     "metadata": {},
     "output_type": "execute_result"
    }
   ],
   "source": [
    "ac01 = tf.equal(predict01, Y)\n",
    "ac01"
   ]
  },
  {
   "cell_type": "code",
   "execution_count": 32,
   "id": "3355e22b",
   "metadata": {},
   "outputs": [
    {
     "data": {
      "text/plain": [
       "<tf.Tensor: id=4, shape=(4, 1), dtype=float32, numpy=\n",
       "array([[1.],\n",
       "       [1.],\n",
       "       [1.],\n",
       "       [1.]], dtype=float32)>"
      ]
     },
     "execution_count": 32,
     "metadata": {},
     "output_type": "execute_result"
    }
   ],
   "source": [
    "ac02 = tf.cast(ac01, dtype = \"float32\")\n",
    "ac02"
   ]
  },
  {
   "cell_type": "code",
   "execution_count": 33,
   "id": "b08fa1ad",
   "metadata": {},
   "outputs": [
    {
     "data": {
      "text/plain": [
       "<tf.Tensor: id=6, shape=(), dtype=float32, numpy=1.0>"
      ]
     },
     "execution_count": 33,
     "metadata": {},
     "output_type": "execute_result"
    }
   ],
   "source": [
    "ac03 = tf.reduce_mean(ac02)\n",
    "ac03"
   ]
  },
  {
   "cell_type": "code",
   "execution_count": 34,
   "id": "d960b8fc",
   "metadata": {},
   "outputs": [
    {
     "name": "stdout",
     "output_type": "stream",
     "text": [
      "1.0\n"
     ]
    }
   ],
   "source": [
    "accuracy = tf.reduce_mean(tf.cast(tf.equal(predict01, Y), dtype = tf.float32))\n",
    "print(accuracy.numpy())"
   ]
  },
  {
   "cell_type": "code",
   "execution_count": 35,
   "id": "2906bee4",
   "metadata": {},
   "outputs": [
    {
     "data": {
      "text/plain": [
       "array([[0.33411476]], dtype=float32)"
      ]
     },
     "execution_count": 35,
     "metadata": {},
     "output_type": "execute_result"
    }
   ],
   "source": [
    "arr = np.array([[0, 1]], dtype = \"float32\")\n",
    "predict = sigmoid(np.dot(arr, w) + b)\n",
    "predict"
   ]
  },
  {
   "cell_type": "code",
   "execution_count": 36,
   "id": "6041d77b",
   "metadata": {},
   "outputs": [
    {
     "data": {
      "text/plain": [
       "array([[0.]], dtype=float32)"
      ]
     },
     "execution_count": 36,
     "metadata": {},
     "output_type": "execute_result"
    }
   ],
   "source": [
    "predict = tf.cast(predict > 0.5, dtype = tf.float32)\n",
    "predict.numpy()"
   ]
  },
  {
   "cell_type": "code",
   "execution_count": 37,
   "id": "06bbb357",
   "metadata": {},
   "outputs": [
    {
     "data": {
      "text/plain": [
       "array([[0.51262593]], dtype=float32)"
      ]
     },
     "execution_count": 37,
     "metadata": {},
     "output_type": "execute_result"
    }
   ],
   "source": [
    "arr = np.array([[1, 1]], dtype = \"float32\")\n",
    "predict = sigmoid(np.dot(arr, w) + b)\n",
    "predict"
   ]
  },
  {
   "cell_type": "code",
   "execution_count": 38,
   "id": "9ea3f23c",
   "metadata": {},
   "outputs": [
    {
     "data": {
      "text/plain": [
       "array([[1.]], dtype=float32)"
      ]
     },
     "execution_count": 38,
     "metadata": {},
     "output_type": "execute_result"
    }
   ],
   "source": [
    "predict = tf.cast(predict > 0.5, dtype = tf.float32)\n",
    "predict.numpy()"
   ]
  },
  {
   "cell_type": "code",
   "execution_count": null,
   "id": "45fb85a9",
   "metadata": {},
   "outputs": [],
   "source": []
  }
 ],
 "metadata": {
  "kernelspec": {
   "display_name": "Python 3",
   "language": "python",
   "name": "python3"
  },
  "language_info": {
   "codemirror_mode": {
    "name": "ipython",
    "version": 3
   },
   "file_extension": ".py",
   "mimetype": "text/x-python",
   "name": "python",
   "nbconvert_exporter": "python",
   "pygments_lexer": "ipython3",
   "version": "3.7.10"
  }
 },
 "nbformat": 4,
 "nbformat_minor": 5
}
