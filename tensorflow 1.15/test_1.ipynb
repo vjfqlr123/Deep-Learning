{
 "cells": [
  {
   "cell_type": "code",
   "execution_count": 1,
   "id": "1e968169",
   "metadata": {},
   "outputs": [],
   "source": [
    "import pandas as pd\n",
    "import numpy as np\n",
    "import os\n",
    "import tensorflow as tf\n",
    "\n",
    "from tensorflow.keras.models import Sequential\n",
    "from tensorflow.keras.layers import Dense\n",
    "from tensorflow.keras.callbacks import ModelCheckpoint, EarlyStopping\n",
    "from sklearn.preprocessing import LabelEncoder\n",
    "from sklearn.model_selection import StratifiedKFold\n",
    "from sklearn.model_selection import train_test_split"
   ]
  },
  {
   "cell_type": "code",
   "execution_count": 2,
   "id": "1070be9f",
   "metadata": {},
   "outputs": [
    {
     "name": "stdout",
     "output_type": "stream",
     "text": [
      "Model: \"sequential_4\"\n",
      "_________________________________________________________________\n",
      "Layer (type)                 Output Shape              Param #   \n",
      "=================================================================\n",
      "dense_16 (Dense)             (None, 30)                390       \n",
      "_________________________________________________________________\n",
      "dense_17 (Dense)             (None, 12)                372       \n",
      "_________________________________________________________________\n",
      "dense_18 (Dense)             (None, 8)                 104       \n",
      "_________________________________________________________________\n",
      "dense_19 (Dense)             (None, 1)                 9         \n",
      "=================================================================\n",
      "Total params: 875\n",
      "Trainable params: 875\n",
      "Non-trainable params: 0\n",
      "_________________________________________________________________\n"
     ]
    }
   ],
   "source": [
    "# 가중치와 옵티마이저를 포함하여 정확히 동일한 모델을 다시 생성합니다\n",
    "new_model = tf.keras.models.load_model('model4.h5')\n",
    "\n",
    "# 모델 구조를 출력합니다\n",
    "new_model.summary()"
   ]
  },
  {
   "cell_type": "code",
   "execution_count": 3,
   "id": "48f8e5f1",
   "metadata": {},
   "outputs": [],
   "source": [
    "df_pre = pd.read_csv('./dataset/wine.csv')\n",
    "df = df_pre.sample(frac = 0.8)"
   ]
  },
  {
   "cell_type": "code",
   "execution_count": 4,
   "id": "0a212b45",
   "metadata": {},
   "outputs": [],
   "source": [
    "dataset = df.values\n",
    "X = dataset[:, 0:12]\n",
    "Y = dataset[:, 12]"
   ]
  },
  {
   "cell_type": "code",
   "execution_count": 5,
   "id": "1d26b4e3",
   "metadata": {},
   "outputs": [
    {
     "data": {
      "text/plain": [
       "array([6.80e+00, 2.60e-01, 4.20e-01, 1.70e+00, 4.90e-02, 4.10e+01,\n",
       "       1.22e+02, 9.93e-01, 3.47e+00, 4.80e-01, 1.05e+01, 8.00e+00])"
      ]
     },
     "execution_count": 5,
     "metadata": {},
     "output_type": "execute_result"
    }
   ],
   "source": [
    "X[0]"
   ]
  },
  {
   "cell_type": "code",
   "execution_count": 6,
   "id": "c2163c53",
   "metadata": {},
   "outputs": [
    {
     "data": {
      "text/plain": [
       "array([[ 6.8 ,  0.26,  0.42, ...,  0.48, 10.5 ,  8.  ],\n",
       "       [ 6.1 ,  0.27,  0.28, ...,  0.42, 10.2 ,  6.  ],\n",
       "       [ 8.  ,  0.22,  0.42, ...,  0.69,  8.6 ,  7.  ],\n",
       "       ...,\n",
       "       [ 6.2 ,  0.35,  0.25, ...,  0.62,  9.3 ,  6.  ],\n",
       "       [ 7.1 ,  0.44,  0.27, ...,  0.36, 11.8 ,  6.  ],\n",
       "       [ 8.5 ,  0.24,  0.47, ...,  0.66,  9.  ,  5.  ]])"
      ]
     },
     "execution_count": 6,
     "metadata": {},
     "output_type": "execute_result"
    }
   ],
   "source": [
    "X"
   ]
  },
  {
   "cell_type": "code",
   "execution_count": 7,
   "id": "fc1ada44",
   "metadata": {},
   "outputs": [],
   "source": [
    "predict = new_model.predict(X)"
   ]
  },
  {
   "cell_type": "code",
   "execution_count": 8,
   "id": "4177563d",
   "metadata": {},
   "outputs": [
    {
     "name": "stdout",
     "output_type": "stream",
     "text": [
      "[[0.00033642]]\n"
     ]
    },
    {
     "data": {
      "text/plain": [
       "array([[0]])"
      ]
     },
     "execution_count": 8,
     "metadata": {},
     "output_type": "execute_result"
    }
   ],
   "source": [
    "t1 = np.array([[7.100e+00, 3.000e-01, 3.600e-01, 6.800e+00, 5.500e-02, 4.450e+01,\n",
    "       2.340e+02, 9.972e-01, 3.490e+00, 6.400e-01, 1.020e+01, 6.000e+00]], np.float32)\n",
    "yhat = new_model.predict(t1)\n",
    "print(yhat)\n",
    "result = new_model.predict_classes(t1)\n",
    "result"
   ]
  },
  {
   "cell_type": "code",
   "execution_count": 9,
   "id": "925f1952",
   "metadata": {},
   "outputs": [
    {
     "data": {
      "text/plain": [
       "array([6.80e+00, 2.60e-01, 4.20e-01, 1.70e+00, 4.90e-02, 4.10e+01,\n",
       "       1.22e+02, 9.93e-01, 3.47e+00, 4.80e-01, 1.05e+01, 8.00e+00])"
      ]
     },
     "execution_count": 9,
     "metadata": {},
     "output_type": "execute_result"
    }
   ],
   "source": [
    "X[0]"
   ]
  },
  {
   "cell_type": "code",
   "execution_count": 10,
   "id": "2d595b4a",
   "metadata": {},
   "outputs": [
    {
     "data": {
      "text/plain": [
       "0.0"
      ]
     },
     "execution_count": 10,
     "metadata": {},
     "output_type": "execute_result"
    }
   ],
   "source": [
    "Y[0]"
   ]
  },
  {
   "cell_type": "code",
   "execution_count": 11,
   "id": "3d8de35d",
   "metadata": {},
   "outputs": [
    {
     "data": {
      "text/plain": [
       "array([[0],\n",
       "       [0],\n",
       "       [0],\n",
       "       ...,\n",
       "       [0],\n",
       "       [0],\n",
       "       [0]])"
      ]
     },
     "execution_count": 11,
     "metadata": {},
     "output_type": "execute_result"
    }
   ],
   "source": [
    "new_model.predict_classes(X)"
   ]
  },
  {
   "cell_type": "code",
   "execution_count": 12,
   "id": "35bf1952",
   "metadata": {},
   "outputs": [
    {
     "data": {
      "text/plain": [
       "array([0, 0, 0, ..., 0, 0, 0], dtype=int64)"
      ]
     },
     "execution_count": 12,
     "metadata": {},
     "output_type": "execute_result"
    }
   ],
   "source": [
    "predicy01 = np.argmax(predict, 1)\n",
    "predicy01"
   ]
  },
  {
   "cell_type": "code",
   "execution_count": 13,
   "id": "9fb9e57d",
   "metadata": {},
   "outputs": [
    {
     "name": "stdout",
     "output_type": "stream",
     "text": [
      "5197/5197 [==============================] - 0s 43us/sample - loss: 0.0705 - accuracy: 0.9771\n",
      "\n",
      " Test Accuracy: 0.9771\n"
     ]
    }
   ],
   "source": [
    "print(\"\\n Test Accuracy: %.4f\" % (new_model.evaluate(X, Y)[1]))  # 불러온 모델로 테스트 실행"
   ]
  },
  {
   "cell_type": "code",
   "execution_count": 14,
   "id": "301d7a6b",
   "metadata": {},
   "outputs": [],
   "source": [
    "seed = 0\n",
    "# 학습셋과 테스트셋을 나눔\n",
    "from sklearn.model_selection import train_test_split\n",
    "\n",
    "X_train, X_test, Y_train, Y_test = train_test_split(X, Y, test_size=0.3, random_state=seed)"
   ]
  },
  {
   "cell_type": "code",
   "execution_count": 15,
   "id": "9ba980f6",
   "metadata": {},
   "outputs": [
    {
     "name": "stdout",
     "output_type": "stream",
     "text": [
      "1560/1560 [==============================] - 0s 27us/sample - loss: 0.0715 - accuracy: 0.9763\n",
      "\n",
      " Test Accuracy: 0.9763\n"
     ]
    }
   ],
   "source": [
    "print(\"\\n Test Accuracy: %.4f\" % (new_model.evaluate(X_test, Y_test)[1]))  # 불러온 모델로 테스트 실행"
   ]
  },
  {
   "cell_type": "code",
   "execution_count": 16,
   "id": "7020d306",
   "metadata": {},
   "outputs": [
    {
     "name": "stdout",
     "output_type": "stream",
     "text": [
      "1560/1560 [==============================] - 0s 26us/sample - loss: 0.0715 - accuracy: 0.9763\n",
      "\n",
      " Test Accuracy: 0.9763\n"
     ]
    }
   ],
   "source": [
    "print(\"\\n Test Accuracy: %.4f\" % (new_model.evaluate(X_test, Y_test)[1]))  # 불러온 모델로 테스트 실행"
   ]
  },
  {
   "cell_type": "code",
   "execution_count": 17,
   "id": "3a86d4a3",
   "metadata": {},
   "outputs": [
    {
     "name": "stdout",
     "output_type": "stream",
     "text": [
      "5197/5197 [==============================] - 0s 26us/sample - loss: 0.0705 - accuracy: 0.9771\n",
      "\n",
      " Test Accuracy: 0.9771\n"
     ]
    }
   ],
   "source": [
    "print(\"\\n Test Accuracy: %.4f\" % (new_model.evaluate(X, Y)[1]))  # 불러온 모델로 테스트 실행"
   ]
  },
  {
   "cell_type": "code",
   "execution_count": null,
   "id": "368b6e40",
   "metadata": {},
   "outputs": [],
   "source": []
  }
 ],
 "metadata": {
  "kernelspec": {
   "display_name": "Python 3",
   "language": "python",
   "name": "python3"
  },
  "language_info": {
   "codemirror_mode": {
    "name": "ipython",
    "version": 3
   },
   "file_extension": ".py",
   "mimetype": "text/x-python",
   "name": "python",
   "nbconvert_exporter": "python",
   "pygments_lexer": "ipython3",
   "version": "3.7.10"
  }
 },
 "nbformat": 4,
 "nbformat_minor": 5
}
