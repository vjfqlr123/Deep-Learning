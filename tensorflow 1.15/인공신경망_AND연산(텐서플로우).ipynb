{
 "cells": [
  {
   "cell_type": "code",
   "execution_count": 1,
   "id": "bc48663d",
   "metadata": {},
   "outputs": [],
   "source": [
    "import tensorflow as tf\n",
    "import numpy as np"
   ]
  },
  {
   "cell_type": "code",
   "execution_count": 2,
   "id": "df5419ca",
   "metadata": {},
   "outputs": [],
   "source": [
    "tf.enable_eager_execution()"
   ]
  },
  {
   "cell_type": "code",
   "execution_count": 3,
   "id": "0bffaa7f",
   "metadata": {},
   "outputs": [],
   "source": [
    "# AND연산의  x1, x2입력을 저장하는 배열\n",
    "X = np.array([\n",
    "                [0., 0.],\n",
    "                [0., 1.],\n",
    "                [1., 0.],\n",
    "                [1., 1.],\n",
    "        ], dtype = \"float32\")\n",
    "\n",
    "# AND연산의 y출력을 저장하는 배열\n",
    "Y = np.array([\n",
    "                [0.],\n",
    "                [0.],\n",
    "                [0.],\n",
    "                [1.]\n",
    "        ], dtype = \"float32\")"
   ]
  },
  {
   "cell_type": "code",
   "execution_count": 4,
   "id": "67a6b21f",
   "metadata": {},
   "outputs": [
    {
     "data": {
      "text/plain": [
       "array([[0., 0.],\n",
       "       [0., 1.],\n",
       "       [1., 0.],\n",
       "       [1., 1.]], dtype=float32)"
      ]
     },
     "execution_count": 4,
     "metadata": {},
     "output_type": "execute_result"
    }
   ],
   "source": [
    "X"
   ]
  },
  {
   "cell_type": "code",
   "execution_count": 5,
   "id": "16d2e292",
   "metadata": {},
   "outputs": [
    {
     "data": {
      "text/plain": [
       "array([[0.],\n",
       "       [0.],\n",
       "       [0.],\n",
       "       [1.]], dtype=float32)"
      ]
     },
     "execution_count": 5,
     "metadata": {},
     "output_type": "execute_result"
    }
   ],
   "source": [
    "Y"
   ]
  },
  {
   "cell_type": "code",
   "execution_count": 6,
   "id": "6668449c",
   "metadata": {},
   "outputs": [],
   "source": [
    "# 선형 회귀 함수의 기울기를 저장할 w선언 기본값: 1, 2\n",
    "w = tf.Variable([[1], [2]], dtype = \"float32\")\n",
    "# 선형 회귀 함수의 절편을 저장할 b선언 기본값 3\n",
    "b = tf.Variable([3], dtype = \"float32\")"
   ]
  },
  {
   "cell_type": "code",
   "execution_count": 7,
   "id": "3dcd1122",
   "metadata": {},
   "outputs": [
    {
     "data": {
      "text/plain": [
       "<tf.Variable 'Variable:0' shape=(2, 1) dtype=float32, numpy=\n",
       "array([[1.],\n",
       "       [2.]], dtype=float32)>"
      ]
     },
     "execution_count": 7,
     "metadata": {},
     "output_type": "execute_result"
    }
   ],
   "source": [
    "w"
   ]
  },
  {
   "cell_type": "code",
   "execution_count": 8,
   "id": "bb220e02",
   "metadata": {},
   "outputs": [
    {
     "data": {
      "text/plain": [
       "<tf.Variable 'Variable:0' shape=(1,) dtype=float32, numpy=array([3.], dtype=float32)>"
      ]
     },
     "execution_count": 8,
     "metadata": {},
     "output_type": "execute_result"
    }
   ],
   "source": [
    "b"
   ]
  },
  {
   "cell_type": "code",
   "execution_count": 9,
   "id": "ad12ff68",
   "metadata": {},
   "outputs": [
    {
     "data": {
      "text/plain": [
       "<tf.Tensor: id=21, shape=(4, 1), dtype=float32, numpy=\n",
       "array([[0.],\n",
       "       [2.],\n",
       "       [1.],\n",
       "       [3.]], dtype=float32)>"
      ]
     },
     "execution_count": 9,
     "metadata": {},
     "output_type": "execute_result"
    }
   ],
   "source": [
    "# X와 w의 곱\n",
    "tf.matmul(X, w)"
   ]
  },
  {
   "cell_type": "code",
   "execution_count": 10,
   "id": "d1ac07ee",
   "metadata": {},
   "outputs": [
    {
     "data": {
      "text/plain": [
       "<tf.Tensor: id=26, shape=(4, 1), dtype=float32, numpy=\n",
       "array([[3.],\n",
       "       [5.],\n",
       "       [4.],\n",
       "       [6.]], dtype=float32)>"
      ]
     },
     "execution_count": 10,
     "metadata": {},
     "output_type": "execute_result"
    }
   ],
   "source": [
    "# X와 w의 곱하고 b 더하기\n",
    "tf.matmul(X, w) + b"
   ]
  },
  {
   "cell_type": "code",
   "execution_count": 11,
   "id": "e9a42bef",
   "metadata": {},
   "outputs": [
    {
     "data": {
      "text/plain": [
       "<tf.Tensor: id=32, shape=(4, 1), dtype=float32, numpy=\n",
       "array([[0.95257413],\n",
       "       [0.9933071 ],\n",
       "       [0.98201376],\n",
       "       [0.99752736]], dtype=float32)>"
      ]
     },
     "execution_count": 11,
     "metadata": {},
     "output_type": "execute_result"
    }
   ],
   "source": [
    "tf.sigmoid(tf.matmul(X, w) + b)"
   ]
  },
  {
   "cell_type": "code",
   "execution_count": 12,
   "id": "22872c1f",
   "metadata": {},
   "outputs": [],
   "source": [
    "optimizer = tf.train.AdamOptimizer(0.01)"
   ]
  },
  {
   "cell_type": "code",
   "execution_count": 13,
   "id": "51a90670",
   "metadata": {
    "scrolled": false
   },
   "outputs": [
    {
     "name": "stdout",
     "output_type": "stream",
     "text": [
      "==================================================\n",
      "step: 0, cost: 3.0189805030822754, w: [[0.99]\n",
      " [1.99]], b: [2.99]\n",
      "==================================================\n",
      "step: 100, cost: 1.8529284000396729, w: [[0.01112574]\n",
      " [1.0014889 ]], b: [2.0029898]\n",
      "==================================================\n",
      "step: 200, cost: 1.0872455835342407, w: [[-0.71142066]\n",
      " [ 0.1846364 ]], b: [1.1350007]\n",
      "==================================================\n",
      "step: 300, cost: 0.8457093834877014, w: [[-0.770385  ]\n",
      " [-0.11182883]], b: [0.52571815]\n",
      "==================================================\n",
      "step: 400, cost: 0.7202606201171875, w: [[-0.4511011]\n",
      " [-0.0378984]], b: [0.06198945]\n",
      "==================================================\n",
      "step: 500, cost: 0.6177883148193359, w: [[-0.07153893]\n",
      " [ 0.16270581]], b: [-0.3574327]\n",
      "==================================================\n",
      "step: 600, cost: 0.5337925553321838, w: [[0.2775185 ]\n",
      " [0.39751324]], b: [-0.75495905]\n",
      "==================================================\n",
      "step: 700, cost: 0.4659406542778015, w: [[0.5853591]\n",
      " [0.6383077]], b: [-1.1313304]\n",
      "==================================================\n",
      "step: 800, cost: 0.41105544567108154, w: [[0.85861605]\n",
      " [0.8750348 ]], b: [-1.4864283]\n",
      "==================================================\n",
      "step: 900, cost: 0.36615604162216187, w: [[1.1055076]\n",
      " [1.1035057]], b: [-1.8219204]\n",
      "==================================================\n",
      "step: 1000, cost: 0.32885345816612244, w: [[1.3327839]\n",
      " [1.3223375]], b: [-2.1403055]\n",
      "==================================================\n",
      "step: 1100, cost: 0.29735806584358215, w: [[1.5453968]\n",
      " [1.5316242]], b: [-2.4441311]\n",
      "==================================================\n",
      "step: 1200, cost: 0.27036380767822266, w: [[1.7468137]\n",
      " [1.7321457]], b: [-2.7356577]\n",
      "==================================================\n",
      "step: 1300, cost: 0.24692147970199585, w: [[1.9394289]\n",
      " [1.9249125]], b: [-3.0167654]\n",
      "==================================================\n",
      "step: 1400, cost: 0.2263360172510147, w: [[2.1249096]\n",
      " [2.1109273]], b: [-3.2889671]\n",
      "==================================================\n",
      "step: 1500, cost: 0.20809124410152435, w: [[2.3044431]\n",
      " [2.2910817]], b: [-3.5534682]\n",
      "==================================================\n",
      "step: 1600, cost: 0.19179761409759521, w: [[2.4788954]\n",
      " [2.466125 ]], b: [-3.8112204]\n",
      "==================================================\n",
      "step: 1700, cost: 0.1771552413702011, w: [[2.6489184]\n",
      " [2.6366696]], b: [-4.0629787]\n",
      "==================================================\n",
      "step: 1800, cost: 0.1639290452003479, w: [[2.8150105]\n",
      " [2.803211 ]], b: [-4.3093452]\n",
      "==================================================\n",
      "step: 1900, cost: 0.15193141996860504, w: [[2.9775653]\n",
      " [2.9661477]], b: [-4.550805]\n",
      "==================================================\n",
      "step: 2000, cost: 0.1410101056098938, w: [[3.1368933]\n",
      " [3.1258023]], b: [-4.787748]\n",
      "==================================================\n",
      "step: 2100, cost: 0.13103899359703064, w: [[3.293251 ]\n",
      " [3.2824411]], b: [-5.0205016]\n",
      "==================================================\n",
      "step: 2200, cost: 0.12191265821456909, w: [[3.446851 ]\n",
      " [3.4362829]], b: [-5.249337]\n",
      "==================================================\n",
      "step: 2300, cost: 0.11354147642850876, w: [[3.5978723]\n",
      " [3.5875149]], b: [-5.474491]\n",
      "==================================================\n",
      "step: 2400, cost: 0.10584835708141327, w: [[3.746471 ]\n",
      " [3.7362978]], b: [-5.696165]\n",
      "==================================================\n",
      "step: 2500, cost: 0.09876681864261627, w: [[3.8927794]\n",
      " [3.8827689]], b: [-5.914537]\n",
      "==================================================\n",
      "step: 2600, cost: 0.09223827719688416, w: [[4.03692  ]\n",
      " [4.0270534]], b: [-6.129772]\n",
      "==================================================\n",
      "step: 2700, cost: 0.08621135354042053, w: [[4.1790013]\n",
      " [4.1692634]], b: [-6.342016]\n",
      "==================================================\n",
      "step: 2800, cost: 0.08064056932926178, w: [[4.319123 ]\n",
      " [4.3094993]], b: [-6.5514045]\n",
      "==================================================\n",
      "step: 2900, cost: 0.07548545300960541, w: [[4.4573755]\n",
      " [4.4478564]], b: [-6.758066]\n",
      "==================================================\n",
      "step: 3000, cost: 0.07070958614349365, w: [[4.5938463]\n",
      " [4.5844216]], b: [-6.9621196]\n",
      "==================================================\n",
      "step: 3100, cost: 0.06628061830997467, w: [[4.7286167]\n",
      " [4.7192764]], b: [-7.1636767]\n",
      "==================================================\n",
      "step: 3200, cost: 0.06216927617788315, w: [[4.8617587]\n",
      " [4.852497 ]], b: [-7.362847]\n",
      "==================================================\n",
      "step: 3300, cost: 0.05834905803203583, w: [[4.9933505]\n",
      " [4.9841585]], b: [-7.5597324]\n",
      "==================================================\n",
      "step: 3400, cost: 0.054796215146780014, w: [[5.123457 ]\n",
      " [5.1143284]], b: [-7.7544312]\n",
      "==================================================\n",
      "step: 3500, cost: 0.05148913711309433, w: [[5.252144]\n",
      " [5.243076]], b: [-7.9470377]\n",
      "==================================================\n",
      "step: 3600, cost: 0.048408281058073044, w: [[5.3794746]\n",
      " [5.370461 ]], b: [-8.137642]\n",
      "==================================================\n",
      "step: 3700, cost: 0.045535728335380554, w: [[5.5055103]\n",
      " [5.496547 ]], b: [-8.32633]\n",
      "==================================================\n",
      "step: 3800, cost: 0.04285537078976631, w: [[5.6303034]\n",
      " [5.6213884]], b: [-8.513182]\n",
      "==================================================\n",
      "step: 3900, cost: 0.04035245627164841, w: [[5.7539105]\n",
      " [5.745039 ]], b: [-8.698278]\n",
      "==================================================\n",
      "step: 4000, cost: 0.0380135141313076, w: [[5.8763857]\n",
      " [5.8675547]], b: [-8.8817]\n",
      "==================================================\n",
      "step: 4100, cost: 0.0358261875808239, w: [[5.9977794]\n",
      " [5.9889855]], b: [-9.063515]\n",
      "==================================================\n",
      "step: 4200, cost: 0.033779293298721313, w: [[6.1181374]\n",
      " [6.109379 ]], b: [-9.243796]\n",
      "==================================================\n",
      "step: 4300, cost: 0.03186250105500221, w: [[6.2375073]\n",
      " [6.2287827]], b: [-9.422612]\n",
      "==================================================\n",
      "step: 4400, cost: 0.03006647899746895, w: [[6.3559318]\n",
      " [6.3472385]], b: [-9.600023]\n",
      "==================================================\n",
      "step: 4500, cost: 0.02838243916630745, w: [[6.473455 ]\n",
      " [6.4647894]], b: [-9.776095]\n",
      "==================================================\n",
      "step: 4600, cost: 0.026802554726600647, w: [[6.5901146]\n",
      " [6.581477 ]], b: [-9.950886]\n",
      "==================================================\n",
      "step: 4700, cost: 0.02531939372420311, w: [[6.705952 ]\n",
      " [6.6973414]], b: [-10.1244545]\n",
      "==================================================\n",
      "step: 4800, cost: 0.023926453664898872, w: [[6.8210015]\n",
      " [6.8124146]], b: [-10.296851]\n",
      "==================================================\n",
      "step: 4900, cost: 0.022617343813180923, w: [[6.9353   ]\n",
      " [6.9267354]], b: [-10.468129]\n"
     ]
    }
   ],
   "source": [
    "for step in range(5000):\n",
    "    with tf.GradientTape() as tape:\n",
    "        hypothesis = tf.sigmoid(tf.matmul(X, w) + b)\n",
    "        cost = -tf.reduce_mean(Y * tf.log(hypothesis) + (1 - Y) * tf.log(1 - hypothesis))\n",
    "        grads = tape.gradient(cost, [w, b])\n",
    "    \n",
    "    optimizer.apply_gradients(grads_and_vars = zip(grads, [w ,b]))\n",
    "    \n",
    "    if step % 100 == 0:\n",
    "        print(\"=\"* 50)\n",
    "        print(\"step: {}, cost: {}, w: {}, b: {}\".format(step, cost, w.numpy(), b.numpy()))"
   ]
  },
  {
   "cell_type": "code",
   "execution_count": 14,
   "id": "feb39a20",
   "metadata": {},
   "outputs": [
    {
     "data": {
      "text/plain": [
       "<tf.Variable 'Variable:0' shape=(2, 1) dtype=float32, numpy=\n",
       "array([[7.047746],\n",
       "       [7.039203]], dtype=float32)>"
      ]
     },
     "execution_count": 14,
     "metadata": {},
     "output_type": "execute_result"
    }
   ],
   "source": [
    "w"
   ]
  },
  {
   "cell_type": "code",
   "execution_count": 15,
   "id": "f261ab24",
   "metadata": {},
   "outputs": [
    {
     "data": {
      "text/plain": [
       "<tf.Variable 'Variable:0' shape=(1,) dtype=float32, numpy=array([-10.636642], dtype=float32)>"
      ]
     },
     "execution_count": 15,
     "metadata": {},
     "output_type": "execute_result"
    }
   ],
   "source": [
    "b"
   ]
  },
  {
   "cell_type": "code",
   "execution_count": 16,
   "id": "4f2d1435",
   "metadata": {},
   "outputs": [
    {
     "data": {
      "text/plain": [
       "<tf.Tensor: id=315293, shape=(4, 1), dtype=float32, numpy=\n",
       "array([[2.4020672e-05],\n",
       "       [2.6663423e-02],\n",
       "       [2.6885986e-02],\n",
       "       [9.6924031e-01]], dtype=float32)>"
      ]
     },
     "execution_count": 16,
     "metadata": {},
     "output_type": "execute_result"
    }
   ],
   "source": [
    "predict = tf.sigmoid(tf.matmul(X, w) + b)\n",
    "predict"
   ]
  },
  {
   "cell_type": "code",
   "execution_count": 17,
   "id": "5fe5d952",
   "metadata": {},
   "outputs": [
    {
     "name": "stdout",
     "output_type": "stream",
     "text": [
      "tf.Tensor(\n",
      "[[0.]\n",
      " [0.]\n",
      " [0.]\n",
      " [1.]], shape=(4, 1), dtype=float32)\n"
     ]
    }
   ],
   "source": [
    "predict01 = tf.cast(predict > 0.5, dtype = tf.float32)\n",
    "print(predict01)"
   ]
  },
  {
   "cell_type": "code",
   "execution_count": 18,
   "id": "cc7fa34d",
   "metadata": {},
   "outputs": [
    {
     "data": {
      "text/plain": [
       "<tf.Tensor: id=315298, shape=(4, 1), dtype=bool, numpy=\n",
       "array([[ True],\n",
       "       [ True],\n",
       "       [ True],\n",
       "       [ True]])>"
      ]
     },
     "execution_count": 18,
     "metadata": {},
     "output_type": "execute_result"
    }
   ],
   "source": [
    "ac01 = tf.equal(predict01, Y)\n",
    "ac01"
   ]
  },
  {
   "cell_type": "code",
   "execution_count": 19,
   "id": "15ba5c85",
   "metadata": {},
   "outputs": [
    {
     "data": {
      "text/plain": [
       "<tf.Tensor: id=315299, shape=(4, 1), dtype=float32, numpy=\n",
       "array([[1.],\n",
       "       [1.],\n",
       "       [1.],\n",
       "       [1.]], dtype=float32)>"
      ]
     },
     "execution_count": 19,
     "metadata": {},
     "output_type": "execute_result"
    }
   ],
   "source": [
    "ac02 = tf.cast(ac01, dtype = \"float32\")\n",
    "ac02"
   ]
  },
  {
   "cell_type": "code",
   "execution_count": 20,
   "id": "fdc0e044",
   "metadata": {},
   "outputs": [
    {
     "data": {
      "text/plain": [
       "<tf.Tensor: id=315301, shape=(), dtype=float32, numpy=1.0>"
      ]
     },
     "execution_count": 20,
     "metadata": {},
     "output_type": "execute_result"
    }
   ],
   "source": [
    "ac03 = tf.reduce_mean(ac02)\n",
    "ac03"
   ]
  },
  {
   "cell_type": "code",
   "execution_count": 21,
   "id": "9e751132",
   "metadata": {},
   "outputs": [
    {
     "name": "stdout",
     "output_type": "stream",
     "text": [
      "1.0\n"
     ]
    }
   ],
   "source": [
    "accuracy = tf.reduce_mean(tf.cast(tf.equal(predict01, Y), dtype = tf.float32))\n",
    "print(accuracy.numpy())"
   ]
  },
  {
   "cell_type": "code",
   "execution_count": null,
   "id": "2d287fba",
   "metadata": {},
   "outputs": [],
   "source": []
  }
 ],
 "metadata": {
  "kernelspec": {
   "display_name": "Python 3",
   "language": "python",
   "name": "python3"
  },
  "language_info": {
   "codemirror_mode": {
    "name": "ipython",
    "version": 3
   },
   "file_extension": ".py",
   "mimetype": "text/x-python",
   "name": "python",
   "nbconvert_exporter": "python",
   "pygments_lexer": "ipython3",
   "version": "3.7.10"
  }
 },
 "nbformat": 4,
 "nbformat_minor": 5
}
